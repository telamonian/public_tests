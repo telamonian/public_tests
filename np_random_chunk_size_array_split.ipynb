{
 "cells": [
  {
   "cell_type": "markdown",
   "metadata": {},
   "source": [
    "written for https://stackoverflow.com/q/49943442/425458"
   ]
  },
  {
   "cell_type": "code",
   "execution_count": 109,
   "metadata": {},
   "outputs": [
    {
     "name": "stdout",
     "output_type": "stream",
     "text": [
      "Populating the interactive namespace from numpy and matplotlib\n"
     ]
    }
   ],
   "source": [
    "%pylab inline"
   ]
  },
  {
   "cell_type": "code",
   "execution_count": 97,
   "metadata": {},
   "outputs": [],
   "source": [
    "from itertools import chain\n",
    "import numpy as np\n",
    "\n",
    "a = np.arange(1, 100)\n",
    "\n",
    "def getIxs(xsize, nlow, nhigh):\n",
    "    # get at least enough random chunk sizes in the specified range, ie nlow <= n <= nhigh\n",
    "    ns = np.random.randint(nlow, nhigh+1, size=xsize//nlow)\n",
    "    \n",
    "    # add up the chunk sizes to get the indices at which we'll slice up the input array\n",
    "    ixs = np.add.accumulate(ns)\n",
    "    \n",
    "    # truncate ixs so that its contents are all valid indices with respect to xs\n",
    "    ixs = ixs[:np.searchsorted(ixs, xsize)]\n",
    "    \n",
    "    return ixs\n",
    "    \n",
    "def chunk(xs, nlow, nhigh):\n",
    "    xs = np.asarray(xs)\n",
    "    \n",
    "    ixs = getIxs(xs.size, nlow, nhigh)\n",
    "    \n",
    "    # rerun getIxs until the size of the final chunk is large enough\n",
    "    while (xs.size - ixs[-1]) < nlow:\n",
    "        ixs = getIxs(xs.size, nlow, nhigh)\n",
    "    \n",
    "    # yield slices from the input array\n",
    "    for start,end in zip(chain([None], ixs), chain(ixs, [None])):\n",
    "        yield xs[start:end]\n",
    "\n",
    "def chunkBlackjack(xs, nlow, nhigh):\n",
    "    xs = np.asarray(xs)\n",
    "    sizex = xs.size\n",
    "    lowbound = sizex - nhigh\n",
    "    highbound = sizex - nlow\n",
    "    \n",
    "    ns = []\n",
    "    nsum = 0\n",
    "    while True:\n",
    "        rint = np.random.randint(nlow, nhigh + 1)\n",
    "        ns.append(rint)\n",
    "        nsum += rint\n",
    "        \n",
    "        if nsum > highbound:\n",
    "            # we've gone \"bust\", start over\n",
    "            ns = []\n",
    "            nsum = 0\n",
    "            continue\n",
    "        elif lowbound < nsum <= highbound:\n",
    "            # we've hit the sweet spot\n",
    "            break\n",
    "\n",
    "    ixs = np.add.accumulate(ns)\n",
    "    # yield slices from the input array\n",
    "    for start,end in zip(chain([None], ixs), chain(ixs, [None])):\n",
    "        yield xs[start:end]\n",
    "        \n",
    "def numpy_fillna(data, dtype=int):\n",
    "    # Get lengths of each row of data\n",
    "    lens = np.array([len(i) for i in data])\n",
    "\n",
    "    # Mask of valid places in each row\n",
    "    mask = np.arange(lens.max()) < lens[:,None]\n",
    "\n",
    "    # Setup output array and put elements from data into masked positions\n",
    "    out = np.zeros(mask.shape, dtype=dtype)\n",
    "    out[mask] = np.concatenate(data)\n",
    "    return out\n",
    "\n",
    "def chunks(xs, nlow, nhigh, rep):\n",
    "    return [list(chunk(xs, nlow, nhigh)) for i in range(int(rep))]\n",
    "\n",
    "def chunkSizes(xs, nlow, nhigh, rep):\n",
    "    return [[x.size for x in c] for c in chunks(xs, nlow, nhigh, rep)]\n",
    "\n",
    "    \n",
    "# numpy_fillna(sizesJagged, dtype=int)\n",
    "    \n",
    "#     for i in range(rep):\n",
    "#         arr[:, i] = [x.size for x in chunk(xs, nlow, nhigh)]\n",
    "#     return arr\n",
    "        \n",
    "# list(chunk(a, 5, 10))\n",
    "\n",
    "# jaggedArr = chunkSizes(a, 5, 10, int(1e5))\n",
    "# jaggedArr = [[x for x in list(chunk(a, 5, 10))] for i in range(int(1e4))]\n",
    "# jaggedArr = [list(chunk(a, 5, 10)) for i in range(int(1e4))]"
   ]
  },
  {
   "cell_type": "code",
   "execution_count": 117,
   "metadata": {},
   "outputs": [],
   "source": [
    "jaggedArr = chunkSizes(a,5,10,1e5)\n",
    "arr = numpy_fillna(jaggedArr).T\n",
    "counts = [np.bincount(row) for row in arr]"
   ]
  },
  {
   "cell_type": "code",
   "execution_count": 118,
   "metadata": {},
   "outputs": [
    {
     "data": {
      "text/plain": [
       "[array([    0,     0,     0,     0,     0, 16628, 16770, 16556, 16794, 16633, 16619]),\n",
       " array([    0,     0,     0,     0,     0, 16690, 16689, 16616, 16756, 16655, 16594]),\n",
       " array([    0,     0,     0,     0,     0, 16593, 16510, 17060, 16728, 16630, 16479]),\n",
       " array([    0,     0,     0,     0,     0, 16664, 16864, 16546, 16871, 16447, 16608]),\n",
       " array([    0,     0,     0,     0,     0, 16599, 16705, 16678, 16679, 16827, 16512]),\n",
       " array([    0,     0,     0,     0,     0, 16657, 16923, 16605, 16685, 16595, 16535]),\n",
       " array([    0,     0,     0,     0,     0, 16714, 16621, 16718, 16831, 16537, 16579]),\n",
       " array([    0,     0,     0,     0,     0, 16666, 16478, 16729, 16754, 16766, 16607]),\n",
       " array([    0,     0,     0,     0,     0, 16694, 16597, 16689, 16774, 16800, 16446]),\n",
       " array([    0,     0,     0,     0,     0, 16641, 16668, 16847, 16453, 16677, 16714]),\n",
       " array([    0,     0,     0,     0,     0, 16509, 16702, 16747, 16811, 16669, 16562]),\n",
       " array([  354,     0,     0,     0,     0, 17915, 17792, 17384, 16955, 15682, 13918]),\n",
       " array([13204,     0,     0,     0,     0, 21256, 19316, 16392, 13270,  9923,  6639]),\n",
       " array([58067,     0,     0,     0,     0, 14201, 10691,  7700,  5033,  2973,  1335]),\n",
       " array([92241,     0,     0,     0,     0,  3348,  2053,  1236,   661,   352,   109]),\n",
       " array([99517,     0,     0,     0,     0,   254,   135,    66,    17,     6,     5]),\n",
       " array([99990,     0,     0,     0,     0,     7,     2,     1])]"
      ]
     },
     "execution_count": 118,
     "metadata": {},
     "output_type": "execute_result"
    }
   ],
   "source": [
    "counts"
   ]
  },
  {
   "cell_type": "code",
   "execution_count": 139,
   "metadata": {},
   "outputs": [
    {
     "data": {
      "image/png": "[encoded data removed]",
      "text/plain": [
       "<matplotlib.figure.Figure at 0x110bf04a8>"
      ]
     },
     "metadata": {},
     "output_type": "display_data"
    }
   ],
   "source": [
    "alphas = (1 - i*.05 if i > 9 else 1 for i in range(len(counts)))\n",
    "colors = ('k' if i <= 9 else None for i in range(len(counts)))\n",
    "\n",
    "for row in numpy_fillna(counts):\n",
    "    plt.step(np.arange(11), row/counts[0].sum(), c=next(colors))"
   ]
  },
  {
   "cell_type": "code",
   "execution_count": 88,
   "metadata": {},
   "outputs": [
    {
     "ename": "ValueError",
     "evalue": "operands could not be broadcast together with shapes (9,) (10,) ",
     "output_type": "error",
     "traceback": [
      "\u001b[0;31m---------------------------------------------------------------------------\u001b[0m",
      "\u001b[0;31mValueError\u001b[0m                                Traceback (most recent call last)",
      "\u001b[0;32m<ipython-input-88-4a25304deddd>\u001b[0m in \u001b[0;36m<module>\u001b[0;34m()\u001b[0m\n\u001b[0;32m----> 1\u001b[0;31m \u001b[0;34m[\u001b[0m\u001b[0mnp\u001b[0m\u001b[0;34m.\u001b[0m\u001b[0mdiff\u001b[0m\u001b[0;34m(\u001b[0m\u001b[0mx\u001b[0m\u001b[0;34m)\u001b[0m\u001b[0;34m.\u001b[0m\u001b[0mcumsum\u001b[0m\u001b[0;34m(\u001b[0m\u001b[0;34m)\u001b[0m \u001b[0;32mfor\u001b[0m \u001b[0mx\u001b[0m \u001b[0;32min\u001b[0m \u001b[0mjaggedArr\u001b[0m\u001b[0;34m]\u001b[0m\u001b[0;34m\u001b[0m\u001b[0m\n\u001b[0m",
      "\u001b[0;32m<ipython-input-88-4a25304deddd>\u001b[0m in \u001b[0;36m<listcomp>\u001b[0;34m(.0)\u001b[0m\n\u001b[0;32m----> 1\u001b[0;31m \u001b[0;34m[\u001b[0m\u001b[0mnp\u001b[0m\u001b[0;34m.\u001b[0m\u001b[0mdiff\u001b[0m\u001b[0;34m(\u001b[0m\u001b[0mx\u001b[0m\u001b[0;34m)\u001b[0m\u001b[0;34m.\u001b[0m\u001b[0mcumsum\u001b[0m\u001b[0;34m(\u001b[0m\u001b[0;34m)\u001b[0m \u001b[0;32mfor\u001b[0m \u001b[0mx\u001b[0m \u001b[0;32min\u001b[0m \u001b[0mjaggedArr\u001b[0m\u001b[0;34m]\u001b[0m\u001b[0;34m\u001b[0m\u001b[0m\n\u001b[0m",
      "\u001b[0;32m/usr/local/lib/python3.6/site-packages/numpy/lib/function_base.py\u001b[0m in \u001b[0;36mdiff\u001b[0;34m(a, n, axis)\u001b[0m\n\u001b[1;32m   1924\u001b[0m         \u001b[0;32mreturn\u001b[0m \u001b[0mdiff\u001b[0m\u001b[0;34m(\u001b[0m\u001b[0ma\u001b[0m\u001b[0;34m[\u001b[0m\u001b[0mslice1\u001b[0m\u001b[0;34m]\u001b[0m\u001b[0;34m-\u001b[0m\u001b[0ma\u001b[0m\u001b[0;34m[\u001b[0m\u001b[0mslice2\u001b[0m\u001b[0;34m]\u001b[0m\u001b[0;34m,\u001b[0m \u001b[0mn\u001b[0m\u001b[0;34m-\u001b[0m\u001b[0;36m1\u001b[0m\u001b[0;34m,\u001b[0m \u001b[0maxis\u001b[0m\u001b[0;34m=\u001b[0m\u001b[0maxis\u001b[0m\u001b[0;34m)\u001b[0m\u001b[0;34m\u001b[0m\u001b[0m\n\u001b[1;32m   1925\u001b[0m     \u001b[0;32melse\u001b[0m\u001b[0;34m:\u001b[0m\u001b[0;34m\u001b[0m\u001b[0m\n\u001b[0;32m-> 1926\u001b[0;31m         \u001b[0;32mreturn\u001b[0m \u001b[0ma\u001b[0m\u001b[0;34m[\u001b[0m\u001b[0mslice1\u001b[0m\u001b[0;34m]\u001b[0m\u001b[0;34m-\u001b[0m\u001b[0ma\u001b[0m\u001b[0;34m[\u001b[0m\u001b[0mslice2\u001b[0m\u001b[0;34m]\u001b[0m\u001b[0;34m\u001b[0m\u001b[0m\n\u001b[0m\u001b[1;32m   1927\u001b[0m \u001b[0;34m\u001b[0m\u001b[0m\n\u001b[1;32m   1928\u001b[0m \u001b[0;34m\u001b[0m\u001b[0m\n",
      "\u001b[0;31mValueError\u001b[0m: operands could not be broadcast together with shapes (9,) (10,) "
     ]
    }
   ],
   "source": [
    "[np.diff(x).cumsum() for x in jaggedArr]"
   ]
  },
  {
   "cell_type": "code",
   "execution_count": 33,
   "metadata": {},
   "outputs": [
    {
     "data": {
      "image/png": "[encoded data removed]",
      "text/plain": [
       "<matplotlib.figure.Figure at 0x10f691e80>"
      ]
     },
     "metadata": {},
     "output_type": "display_data"
    }
   ],
   "source": [
    "toes = [(len(l) - 1, l[-1]) for l in jaggedArr]\n",
    "\n",
    "histout = plt.hist2d(*zip(*toes), bins=[np.arange(10,18), np.arange(11)])"
   ]
  },
  {
   "cell_type": "code",
   "execution_count": 35,
   "metadata": {},
   "outputs": [
    {
     "data": {
      "text/plain": [
       "array([[   0,    0,    0,    1,    4,   11,   11,   27,   39,   78],\n",
       "       [   0,  163,  273,  389,  594,  935, 1070, 1159, 1167, 1630],\n",
       "       [   0, 2753, 3317, 4028, 4763, 5294, 5013, 4088, 3321, 3291],\n",
       "       [   0, 6469, 6500, 6117, 5885, 5597, 4082, 2866, 1908, 1453],\n",
       "       [   0, 3496, 2844, 2399, 1902, 1446,  900,  549,  298,  180],\n",
       "       [   0,  540,  414,  278,  163,  107,   69,   36,   10,    7],\n",
       "       [   0,   27,   22,    7,    9,    1,    0,    0,    0,    0]])"
      ]
     },
     "execution_count": 35,
     "metadata": {},
     "output_type": "execute_result"
    }
   ],
   "source": [
    "histout[0].astype(int)"
   ]
  },
  {
   "cell_type": "code",
   "execution_count": null,
   "metadata": {},
   "outputs": [],
   "source": [
    "xs = np.arange(1, 100)\n",
    "\n",
    "ns = np.random.randint(nlow, nhigh+1, size=xs.size//nlow)\n",
    "ixs = np.add.accumulate(ns)\n",
    "np.searchsorted(np.arange(1, 100), 99)"
   ]
  },
  {
   "cell_type": "code",
   "execution_count": 24,
   "metadata": {},
   "outputs": [
    {
     "data": {
      "text/plain": [
       "[array([     0,      0,      0,      0,      0, 166138, 167070, 166622, 166856, 166604, 166710]),\n",
       " array([     0,      0,      0,      0,      0, 166896, 166989, 166841, 166569, 166419, 166286]),\n",
       " array([     0,      0,      0,      0,      0, 166153, 165707, 167479, 167505, 166450, 166706]),\n",
       " array([     0,      0,      0,      0,      0, 166553, 166954, 166918, 165633, 166541, 167401]),\n",
       " array([     0,      0,      0,      0,      0, 166804, 166708, 167011, 166427, 166802, 166248]),\n",
       " array([     0,      0,      0,      0,      0, 166280, 166956, 166374, 167006, 166665, 166719]),\n",
       " array([     0,      0,      0,      0,      0, 166306, 166671, 167145, 166038, 166946, 166894]),\n",
       " array([     0,      0,      0,      0,      0, 166911, 166300, 166634, 166494, 166631, 167030]),\n",
       " array([     0,      0,      0,      0,      0, 166178, 166623, 166441, 166995, 166921, 166842]),\n",
       " array([     0,      0,      0,      0,      0, 166962, 166817, 166282, 167226, 166515, 166198]),\n",
       " array([     0,      0,      4,     12,     53, 166847, 166971, 167046, 166610, 166159, 166298]),\n",
       " array([  1845,   1512,   2535,   4064,   6420, 171813, 171060, 169554, 165544, 157998, 147655]),\n",
       " array([ 76321,  27595,  33548,  40807,  47468, 173745, 159411, 141565, 122008,  99508,  78024]),\n",
       " array([436624,  63436,  63884,  62005,  59225,  98237,  76487,  56603,  40221,  26838,  16440]),\n",
       " array([843846,  34679,  28886,  23376,  18581,  20557,  13385,   8161,   4810,   2548,   1171]),\n",
       " array([983212,   5645,   3905,   2634,   1785,   1465,    730,    365,    172,     65,     22]),\n",
       " array([999363,    272,    172,     84,     57,     37,      9,      3,      2,      0,      1]),\n",
       " array([999990,      4,      5,      1])]"
      ]
     },
     "execution_count": 24,
     "metadata": {},
     "output_type": "execute_result"
    }
   ],
   "source": [
    "np.set_printoptions(linewidth=200)\n",
    "counts_1e6"
   ]
  },
  {
   "cell_type": "code",
   "execution_count": 23,
   "metadata": {},
   "outputs": [
    {
     "data": {
      "text/plain": [
       "[array([   0,    0,    0,    0,    0, 1670, 1721, 1664, 1663, 1696, 1586]),\n",
       " array([   0,    0,    0,    0,    0, 1671, 1660, 1646, 1708, 1695, 1620]),\n",
       " array([   0,    0,    0,    0,    0, 1648, 1679, 1718, 1644, 1685, 1626]),\n",
       " array([   0,    0,    0,    0,    0, 1623, 1613, 1678, 1709, 1711, 1666]),\n",
       " array([   0,    0,    0,    0,    0, 1629, 1638, 1636, 1683, 1753, 1661]),\n",
       " array([   0,    0,    0,    0,    0, 1686, 1668, 1595, 1742, 1679, 1630]),\n",
       " array([   0,    0,    0,    0,    0, 1698, 1688, 1625, 1715, 1613, 1661]),\n",
       " array([   0,    0,    0,    0,    0, 1744, 1713, 1627, 1638, 1676, 1602]),\n",
       " array([   0,    0,    0,    0,    0, 1662, 1637, 1706, 1689, 1662, 1644]),\n",
       " array([   0,    0,    0,    0,    0, 1743, 1648, 1687, 1736, 1626, 1560]),\n",
       " array([   0,    0,    0,    0,    1, 1694, 1733, 1620, 1669, 1617, 1666]),\n",
       " array([  19,   19,   24,   36,   64, 1715, 1682, 1659, 1722, 1537, 1523]),\n",
       " array([ 738,  253,  344,  394,  476, 1743, 1574, 1461, 1231,  988,  798]),\n",
       " array([4276,  692,  599,  616,  601,  965,  813,  587,  415,  275,  161]),\n",
       " array([8396,  348,  287,  251,  210,  192,  121,   98,   56,   28,   13]),\n",
       " array([9854,   47,   39,   21,   14,   14,    7,    3,    1]),\n",
       " array([9997,    1,    2])]"
      ]
     },
     "execution_count": 23,
     "metadata": {},
     "output_type": "execute_result"
    }
   ],
   "source": [
    "counts"
   ]
  },
  {
   "cell_type": "code",
   "execution_count": 8,
   "metadata": {},
   "outputs": [
    {
     "data": {
      "text/plain": [
       "array([[1, 2, 5, 1],\n",
       "       [2, 3, 5, 1],\n",
       "       [3, 1, 5, 0],\n",
       "       [4, 0, 5, 0],\n",
       "       [0, 0, 8, 0],\n",
       "       [0, 0, 9, 0],\n",
       "       [0, 0, 5, 0]], dtype=object)"
      ]
     },
     "execution_count": 8,
     "metadata": {},
     "output_type": "execute_result"
    }
   ],
   "source": [
    "np.array([[1, 2, 3, 4, 0, 0, 0],\n",
    "       [2, 3, 1, 0, 0, 0, 0],\n",
    "       [5, 5, 5, 5, 8, 9, 5],\n",
    "       [1, 1, 0, 0, 0, 0, 0]], dtype=object).T"
   ]
  },
  {
   "cell_type": "markdown",
   "metadata": {},
   "source": [
    "You should be aware, however, that in both this and my previous answer the final chunk will always tend to be somewhat shorter than the others (though it still will have a random size). The reason why is complicated, but the short version is that splitting an array into randomly sized chunks is a variation on the old \"how do you generate x random numbers that sum to y?\" problem. The shrimpy size of the last random number is then a consequence of the \"boundary\" that the sum condition imposes."
   ]
  },
  {
   "cell_type": "code",
   "execution_count": 142,
   "metadata": {},
   "outputs": [],
   "source": [
    "def randSumToX_diff(x, n):\n",
    "    return np.diff([0] + sorted(np.random.randint(0,x+1,size=n-1).tolist()) + [x])"
   ]
  },
  {
   "cell_type": "code",
   "execution_count": 157,
   "metadata": {},
   "outputs": [],
   "source": [
    "arr = np.array([randSumToX_diff(100, 3) for i in range(int(1e5))])\n",
    "counts = [np.bincount(row) for row in arr.T]"
   ]
  },
  {
   "cell_type": "code",
   "execution_count": 158,
   "metadata": {},
   "outputs": [
    {
     "data": {
      "text/plain": [
       "[array([1977, 1905, 1919, 1905, 1891, 1834, 1843, 1895, 1822, 1860, 1801, 1711, 1730, 1760, 1672, 1726, 1627, 1632, 1625, 1597, 1612, 1509, 1492, 1543, 1496, 1465, 1445, 1457, 1452, 1357, 1404, 1333,\n",
       "        1336, 1381, 1343, 1300, 1331, 1192, 1272, 1207, 1207, 1196, 1145, 1128, 1085, 1073, 1038, 1015, 1089, 1029, 1035,  950,  967,  892,  908,  921,  840,  825,  817,  844,  809,  789,  743,  770,\n",
       "         728,  663,  640,  660,  644,  573,  579,  595,  555,  514,  460,  463,  466,  461,  442,  393,  403,  340,  373,  363,  328,  322,  308,  263,  246,  222,  227,  189,  150,  158,  157,   98,\n",
       "          83,   66,   51,   33,   10]),\n",
       " array([ 982, 1994, 1930, 1916, 1885, 1886, 1860, 1884, 1802, 1806, 1798, 1864, 1771, 1744, 1721, 1750, 1706, 1699, 1505, 1597, 1520, 1600, 1522, 1491, 1518, 1486, 1447, 1438, 1445, 1431, 1381, 1379,\n",
       "        1389, 1319, 1304, 1289, 1222, 1324, 1159, 1196, 1220, 1146, 1133, 1122, 1106, 1128, 1097, 1062, 1038, 1006,  983, 1012, 1027,  903,  938,  903,  869,  849,  868,  771,  817,  792,  774,  766,\n",
       "         734,  734,  697,  669,  649,  600,  619,  601,  566,  525,  490,  500,  476,  440,  476,  403,  429,  383,  358,  347,  333,  310,  315,  241,  252,  236,  221,  211,  173,  174,  149,  113,\n",
       "          88,   80,   64,   37,   17]),\n",
       " array([2002, 1977, 1950, 1939, 1905, 1803, 1767, 1858, 1805, 1871, 1752, 1709, 1742, 1727, 1598, 1656, 1632, 1549, 1542, 1571, 1534, 1524, 1543, 1516, 1535, 1503, 1415, 1450, 1449, 1395, 1435, 1380,\n",
       "        1316, 1336, 1356, 1289, 1266, 1248, 1235, 1214, 1231, 1184, 1135, 1129, 1101, 1060, 1035, 1068, 1033, 1075, 1033,  977,  853,  931,  874,  886,  891,  880,  895,  813,  817,  758,  801,  725,\n",
       "         720,  691,  721,  722,  638,  611,  615,  566,  577,  523,  510,  492,  485,  458,  454,  446,  421,  376,  378,  343,  309,  294,  280,  253,  242,  252,  203,  177,  163,  148,  120,  102,\n",
       "          84,   62,   49,   27,    9])]"
      ]
     },
     "execution_count": 158,
     "metadata": {},
     "output_type": "execute_result"
    }
   ],
   "source": [
    "counts"
   ]
  },
  {
   "cell_type": "code",
   "execution_count": null,
   "metadata": {},
   "outputs": [],
   "source": []
  }
 ],
 "metadata": {
  "kernelspec": {
   "display_name": "Python 3",
   "language": "python",
   "name": "python3"
  },
  "language_info": {
   "codemirror_mode": {
    "name": "ipython",
    "version": 3
   },
   "file_extension": ".py",
   "mimetype": "text/x-python",
   "name": "python",
   "nbconvert_exporter": "python",
   "pygments_lexer": "ipython3",
   "version": "3.6.5"
  }
 },
 "nbformat": 4,
 "nbformat_minor": 2
}
