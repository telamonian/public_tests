{
 "cells": [
  {
   "cell_type": "markdown",
   "metadata": {},
   "source": [
    "written for https://stackoverflow.com/q/49932428/425458"
   ]
  },
  {
   "cell_type": "code",
   "execution_count": 6,
   "metadata": {},
   "outputs": [
    {
     "name": "stderr",
     "output_type": "stream",
     "text": [
      "/usr/local/lib/python3.6/site-packages/ipykernel_launcher.py:13: RuntimeWarning: invalid value encountered in sqrt\n",
      "  del sys.path[0]\n",
      "/usr/local/lib/python3.6/site-packages/ipykernel_launcher.py:26: RuntimeWarning: invalid value encountered in sqrt\n"
     ]
    }
   ],
   "source": [
    "import numpy as np\n",
    "import scipy.optimize as optimize\n",
    "\n",
    "def x(theta1, theta2, w, h, L1, L2):\n",
    "    sint1 = np.sin(theta1)\n",
    "    cost1 = np.cos(theta1)\n",
    "    sint2 = np.sin(theta2)\n",
    "    cost2 = np.cos(theta2)\n",
    "\n",
    "    i1 = L1 * (cost1 + cost2) + w\n",
    "    j1 = L1 * (sint1 - sint2) - h\n",
    "    D = np.sqrt((L1*(cost2-cost1)+w)**2+(L1*(sint2-sint1)+h)**2)\n",
    "    a = (0.25)*np.sqrt((4*L2**2-D**2)*D**2)\n",
    "\n",
    "    return i1/2 + 2*j1*a/(D**2)\n",
    "\n",
    "def y(theta1, theta2, w, h, L1, L2):\n",
    "    sint1 = np.sin(theta1)\n",
    "    cost1 = np.cos(theta1)\n",
    "    sint2 = np.sin(theta2)\n",
    "    cost2 = np.cos(theta2)\n",
    "\n",
    "    i2 = L1 * (sint1 + sint2) + h\n",
    "    j2 = L1 * (cost1 - cost2) - w\n",
    "    D = np.sqrt((L1*(cost2-cost1)+w)**2+(L1*(sint2-sint1)+h)**2)\n",
    "    a = (0.25)*np.sqrt((4*L2**2-D**2)*D**2)\n",
    "\n",
    "    return i2/2 - 2*j2*a/(D**2)\n",
    "\n",
    "def det_jacobiano(theta, w, h, L1, L2,eps):\n",
    "    theta1,theta2 = theta[0],theta[1]\n",
    "    dxdt1 = (-x(theta1+eps, theta2, w, h, L1, L2)+4*x(theta1, theta2, w, h, L1, L2)-3*x(theta1-eps, theta2, w, h, L1, L2))/(2*eps)\n",
    "    dxdt2 = (-x(theta1, theta2+eps, w, h, L1, L2)+4*x(theta1, theta2, w, h, L1, L2)-3*x(theta1, theta2-eps, w, h, L1, L2))/(2*eps)\n",
    "    dydt1 = (-y(theta1+eps, theta2, w, h, L1, L2)+4*y(theta1, theta2, w, h, L1, L2)-3*y(theta1-eps, theta2, w, h, L1, L2))/(2*eps)\n",
    "    dydt2 = (-y(theta1, theta2+eps, w, h, L1, L2)+4*y(theta1, theta2, w, h, L1, L2)-3*y(theta1, theta2-eps, w, h, L1, L2))/(2*eps)  \n",
    "    return dxdt1*dydt2 - dxdt2*dydt1\n",
    "\n",
    "initial_guess = [2.693, 0.4538]\n",
    "result = optimize.minimize(det_jacobiano, initial_guess, tol=1e-8, args=(20,0,100,100,1e-10), method='Nelder-Mead')"
   ]
  },
  {
   "cell_type": "code",
   "execution_count": 7,
   "metadata": {},
   "outputs": [
    {
     "data": {
      "text/plain": [
       " final_simplex: (array([[ 2.69328806,  0.4537475 ],\n",
       "       [ 2.69328806,  0.4537475 ],\n",
       "       [ 2.69328806,  0.4537475 ]]), array([ -2.05794077e+08,  -2.05793244e+08,  -2.05793244e+08]))\n",
       "           fun: -205794076.57510376\n",
       "       message: 'Maximum number of function evaluations has been exceeded.'\n",
       "          nfev: 403\n",
       "           nit: 150\n",
       "        status: 1\n",
       "       success: False\n",
       "             x: array([ 2.69328806,  0.4537475 ])"
      ]
     },
     "execution_count": 7,
     "metadata": {},
     "output_type": "execute_result"
    }
   ],
   "source": [
    "result"
   ]
  },
  {
   "cell_type": "code",
   "execution_count": 3,
   "metadata": {},
   "outputs": [
    {
     "data": {
      "text/plain": [
       "0.0"
      ]
     },
     "execution_count": 3,
     "metadata": {},
     "output_type": "execute_result"
    }
   ],
   "source": [
    "det_jacobiano(result.x, *args)"
   ]
  },
  {
   "cell_type": "code",
   "execution_count": null,
   "metadata": {},
   "outputs": [],
   "source": []
  }
 ],
 "metadata": {
  "kernelspec": {
   "display_name": "Python 3",
   "language": "python",
   "name": "python3"
  },
  "language_info": {
   "codemirror_mode": {
    "name": "ipython",
    "version": 3
   },
   "file_extension": ".py",
   "mimetype": "text/x-python",
   "name": "python",
   "nbconvert_exporter": "python",
   "pygments_lexer": "ipython3",
   "version": "3.6.5"
  }
 },
 "nbformat": 4,
 "nbformat_minor": 2
}
