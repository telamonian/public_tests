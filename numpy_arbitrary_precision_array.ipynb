{
 "cells": [
  {
   "cell_type": "markdown",
   "metadata": {},
   "source": [
    "written for https://stackoverflow.com/q/49888741/425458"
   ]
  },
  {
   "cell_type": "code",
   "execution_count": 1,
   "metadata": {},
   "outputs": [],
   "source": [
    "from mpmath import mp, mpf\n",
    "import numpy as np\n",
    "\n",
    "# stands for \"decimal places\". Larger values \n",
    "# mean higher precision, but slower computation\n",
    "mp.dps = 75\n",
    "\n",
    "def tompf(arr):\n",
    "    \"\"\"Convert any numpy array to one of arbitrary precision mpmath.mpf floats\n",
    "    \"\"\"\n",
    "    if arr.size and not isinstance(arr.flat[0], mpf):\n",
    "        return np.array([mpf(x) for x in arr.flat]).reshape(*arr.shape)\n",
    "    else:\n",
    "        return arr\n",
    "\n",
    "def dotmpf(arr0, arr1):\n",
    "    \"\"\"An arbitrary precision version of np.dot\n",
    "    \"\"\"\n",
    "    return tompf(arr0).dot(tompf(arr1))"
   ]
  },
  {
   "cell_type": "code",
   "execution_count": 60,
   "metadata": {},
   "outputs": [],
   "source": [
    "dim = 8\n",
    "bshape = (dim,)*4\n",
    "dshape = (dim,)*2\n",
    "\n",
    "B = np.random.rand(*bshape)\n",
    "BT = np.swapaxes(B, -2, -1)\n",
    "\n",
    "d = np.random.rand(*dshape)\n",
    "D = d.dot(d.T)"
   ]
  },
  {
   "cell_type": "code",
   "execution_count": 68,
   "metadata": {},
   "outputs": [
    {
     "name": "stdout",
     "output_type": "stream",
     "text": [
      "dot 1.81898940355e-11\n",
      "reduce->dot 1.81898940355e-11\n",
      "einsum -7.27595761418e-12\n",
      "einsum w/transpose -7.27595761418e-12\n"
     ]
    }
   ],
   "source": [
    "M = np.dot(np.dot(B, D), BT)\n",
    "print('dot', np.sum(M - M.T))\n",
    "\n",
    "import functools\n",
    "M = functools.reduce(np.dot, [B,D,BT])\n",
    "print('reduce->dot', np.sum(M - M.T))\n",
    "\n",
    "# np.einsum('ij,jk,lk',B,D,B)\n",
    "M = np.einsum('abcd,de,efgh',B,D,BT)\n",
    "print('einsum', np.sum(M - M.T))\n",
    "\n",
    "# np.einsum('ij,jk,lk',B,D,B)\n",
    "M = np.einsum('abci,ij,jkml',B,D,B)\n",
    "print('einsum w/transpose', np.sum(M - M.T))"
   ]
  },
  {
   "cell_type": "code",
   "execution_count": 69,
   "metadata": {},
   "outputs": [
    {
     "name": "stdout",
     "output_type": "stream",
     "text": [
      "einsum w/transpose -7.27595761418e-12\n"
     ]
    }
   ],
   "source": [
    "# np.einsum('ij,jk,lk',B,D,B)\n",
    "M = np.einsum('abci,ij,jdfe',B,D,B)\n",
    "print('einsum w/transpose', np.sum(M - M.T))"
   ]
  },
  {
   "cell_type": "code",
   "execution_count": 64,
   "metadata": {},
   "outputs": [
    {
     "data": {
      "text/plain": [
       "False"
      ]
     },
     "execution_count": 64,
     "metadata": {},
     "output_type": "execute_result"
    }
   ],
   "source": [
    "np.allclose(BT, np.einsum('jdfe', B))"
   ]
  },
  {
   "cell_type": "code",
   "execution_count": 57,
   "metadata": {},
   "outputs": [
    {
     "data": {
      "text/plain": [
       "True"
      ]
     },
     "execution_count": 57,
     "metadata": {},
     "output_type": "execute_result"
    }
   ],
   "source": [
    "np.allclose(BT, np.einsum('wxzy', B))"
   ]
  },
  {
   "cell_type": "code",
   "execution_count": 54,
   "metadata": {},
   "outputs": [
    {
     "data": {
      "text/plain": [
       "True"
      ]
     },
     "execution_count": 54,
     "metadata": {},
     "output_type": "execute_result"
    }
   ],
   "source": [
    "np.allclose(np.swapaxes(B, -2, -1), np.swapaxes(B, 2, 3))"
   ]
  },
  {
   "cell_type": "code",
   "execution_count": 42,
   "metadata": {},
   "outputs": [
    {
     "data": {
      "text/plain": [
       "0.0"
      ]
     },
     "execution_count": 42,
     "metadata": {},
     "output_type": "execute_result"
    }
   ],
   "source": []
  },
  {
   "cell_type": "code",
   "execution_count": 43,
   "metadata": {},
   "outputs": [
    {
     "data": {
      "text/plain": [
       "-4.8885340220294893e-12"
      ]
     },
     "execution_count": 43,
     "metadata": {},
     "output_type": "execute_result"
    }
   ],
   "source": []
  },
  {
   "cell_type": "code",
   "execution_count": 21,
   "metadata": {},
   "outputs": [
    {
     "data": {
      "text/plain": [
       "(4, 4, 4, 4, 4, 4)"
      ]
     },
     "execution_count": 21,
     "metadata": {},
     "output_type": "execute_result"
    }
   ],
   "source": [
    "M.shape"
   ]
  },
  {
   "cell_type": "code",
   "execution_count": 6,
   "metadata": {},
   "outputs": [
    {
     "data": {
      "text/plain": [
       "0.0"
      ]
     },
     "execution_count": 6,
     "metadata": {},
     "output_type": "execute_result"
    }
   ],
   "source": [
    "# np.einsum('ij,jk,lk',B,D,B)\n",
    "M = np.einsum('ab,bc,cd',B,D,B.T)\n",
    "np.sum(M - M.T)"
   ]
  },
  {
   "cell_type": "code",
   "execution_count": 35,
   "metadata": {},
   "outputs": [
    {
     "data": {
      "text/plain": [
       "mpf('0.0')"
      ]
     },
     "execution_count": 35,
     "metadata": {},
     "output_type": "execute_result"
    }
   ],
   "source": [
    "M = dotmpf(dotmpf(B, D), BT)\n",
    "np.sum(M - M.T)"
   ]
  },
  {
   "cell_type": "markdown",
   "metadata": {},
   "source": [
    "<br/><br/><br/><br/><br/><br/><br/>\n",
    "# Float investigation"
   ]
  },
  {
   "cell_type": "code",
   "execution_count": 85,
   "metadata": {},
   "outputs": [
    {
     "name": "stdout",
     "output_type": "stream",
     "text": [
      "-3.851859888774472e-34\n",
      "-3.851859888774472e-34\n"
     ]
    }
   ],
   "source": [
    "print((0.84e-18 + 0.96e-18 + 0.75e-18) - (0.75e-18 + 0.84e-18 + 0.96e-18))\n",
    "\n",
    "x = 0.84e-18 + 0.96e-18 + 0.75e-18\n",
    "y = 0.75e-18 + 0.84e-18 + 0.96e-18\n",
    "print(x - y)"
   ]
  },
  {
   "cell_type": "code",
   "execution_count": 85,
   "metadata": {},
   "outputs": [
    {
     "name": "stdout",
     "output_type": "stream",
     "text": [
      "-3.851859888774472e-34\n",
      "-3.851859888774472e-34\n"
     ]
    }
   ],
   "source": [
    "print((0.84e-18 + 0.96e-18 + 0.75e-18) - (0.75e-18 + 0.84e-18 + 0.96e-18))\n",
    "\n",
    "x = 0.84e-18 + 0.96e-18 + 0.75e-18\n",
    "y = 0.75e-18 + 0.84e-18 + 0.96e-18\n",
    "print(x - y)"
   ]
  },
  {
   "cell_type": "code",
   "execution_count": null,
   "metadata": {},
   "outputs": [],
   "source": [
    "a = 0.84e-18\n",
    "b = 0.96e-18\n",
    "c = 0.75e-18\n",
    "\n",
    "x = a + b + c\n",
    "y = c + a + b\n",
    "\n",
    "w=0; w+=a; w+=b; w+=c\n",
    "z=0; z+=c; z+=a; z+=b\n",
    "\n",
    "print(x - y)\n",
    "print(x - w)\n",
    "print(x - z)\n",
    "print(w - z)"
   ]
  },
  {
   "cell_type": "code",
   "execution_count": 96,
   "metadata": {},
   "outputs": [
    {
     "name": "stdout",
     "output_type": "stream",
     "text": [
      "0.0\n",
      "-3.1554436208840472e-30\n",
      "0.0\n",
      "0.0\n"
     ]
    }
   ],
   "source": [
    "a = 0.84660776e-14  \n",
    "b = 0.96026596e-14  \n",
    "c = 0.74865727e-14\n",
    "\n",
    "print((a+b) - (b+a))\n",
    "print((a+b+c) - (c+a+b))\n",
    "\n",
    "print((a*b) - (b*a))\n",
    "print((a*b*c) - (c*a*b))"
   ]
  },
  {
   "cell_type": "code",
   "execution_count": 164,
   "metadata": {},
   "outputs": [
    {
     "name": "stdout",
     "output_type": "stream",
     "text": [
      "0.0\n",
      "0.0\n",
      "0.0\n",
      "0.0\n",
      "-2.91038304567e-10\n",
      "0.0\n"
     ]
    }
   ],
   "source": [
    "A = np.random.rand(int(1e6))\n",
    "AP = np.roll(A, 1)\n",
    "\n",
    "B = np.random.rand(int(1e6))\n",
    "BP = np.roll(B, 1)\n",
    "\n",
    "print((A[0] + A[1]) - (A[1] + A[0]))\n",
    "print((A[0] + A[1] + A[2]) - (A[2] + A[0] + A[1]))\n",
    "\n",
    "print((A[0]*A[1]) - (A[1]*A[0]))\n",
    "print((A[0]*A[1]*A[2]) - (A[2]*A[0]*A[1]))\n",
    "\n",
    "print(np.sum(B) - np.sum(BP))\n",
    "print(np.prod(B) - np.prod(BP))"
   ]
  },
  {
   "cell_type": "code",
   "execution_count": 200,
   "metadata": {},
   "outputs": [
    {
     "name": "stdout",
     "output_type": "stream",
     "text": [
      "-9.31322574615e-10\n"
     ]
    }
   ],
   "source": [
    "A = np.random.rand(int(1e7))\n",
    "AP = np.roll(A, 1)\n",
    "\n",
    "print(np.sum(A) - np.sum(AP))"
   ]
  },
  {
   "cell_type": "code",
   "execution_count": 250,
   "metadata": {},
   "outputs": [
    {
     "name": "stdout",
     "output_type": "stream",
     "text": [
      "-7.02630770406e-17\n",
      "0.0\n"
     ]
    }
   ],
   "source": [
    "A = np.random.rand(int(1e2))\n",
    "B = np.random.rand(int(1e2))\n",
    "C = np.random.rand(int(1e2))\n",
    "\n",
    "print(np.sum(A*B*C - C*B*A))\n",
    "print(np.sum(A*B*C - C*B*A) - np.sum((A*B)*C - A*(B*C)))"
   ]
  },
  {
   "cell_type": "code",
   "execution_count": 400,
   "metadata": {},
   "outputs": [],
   "source": [
    "A = np.random.rand(int(1e2))\n",
    "B = np.random.rand(int(1e2))\n",
    "C = np.random.rand(int(1e2))"
   ]
  },
  {
   "cell_type": "code",
   "execution_count": 401,
   "metadata": {},
   "outputs": [
    {
     "name": "stdout",
     "output_type": "stream",
     "text": [
      "0.0\n",
      "-3.46944695195e-18\n",
      "-3.46944695195e-18\n",
      "-3.46944695195e-18\n",
      "-3.46944695195e-18\n",
      "0.0\n"
     ]
    }
   ],
   "source": [
    "x = A[0]*B[0]*C[0]\n",
    "y = B[0]*A[0]*C[0]\n",
    "z = A[0]*C[0]*B[0]\n",
    "\n",
    "w = C[0]*B[0]*A[0]\n",
    "v = A[0]*(B[0]*C[0])\n",
    "\n",
    "print(np.sum(x - y))\n",
    "print(np.sum(x - z))\n",
    "print(np.sum(y - z))\n",
    "\n",
    "print(np.sum(x - w))\n",
    "print(np.sum(x - v))\n",
    "\n",
    "print(np.sum(x - w) - np.sum(x - v))"
   ]
  },
  {
   "cell_type": "code",
   "execution_count": null,
   "metadata": {},
   "outputs": [],
   "source": [
    "A = np.random.rand(int(1e2))\n",
    "B = np.random.rand(int(1e2))"
   ]
  },
  {
   "cell_type": "code",
   "execution_count": 406,
   "metadata": {},
   "outputs": [
    {
     "name": "stdout",
     "output_type": "stream",
     "text": [
      "0.0\n"
     ]
    }
   ],
   "source": [
    "X = A*B\n",
    "Y = B*A\n",
    "\n",
    "print(np.sum(X - Y))"
   ]
  },
  {
   "cell_type": "code",
   "execution_count": 424,
   "metadata": {},
   "outputs": [],
   "source": [
    "A = np.random.rand(int(1e2))\n",
    "B = np.random.rand(int(1e2))\n",
    "C = np.random.rand(int(1e2))"
   ]
  },
  {
   "cell_type": "code",
   "execution_count": 425,
   "metadata": {},
   "outputs": [
    {
     "name": "stdout",
     "output_type": "stream",
     "text": [
      "0.0\n",
      "0.0\n",
      "0.0\n",
      "-8.93382590128e-17\n",
      "-8.93382590128e-17\n",
      "0.0\n"
     ]
    }
   ],
   "source": [
    "X = A*B*C\n",
    "Y = B*A*C\n",
    "Z = C*(A*B)\n",
    "\n",
    "W = C*B*A\n",
    "V = A*(B*C)\n",
    "\n",
    "print(np.sum(X - Y))\n",
    "print(np.sum(X - Z))\n",
    "print(np.sum(Y - Z))\n",
    "\n",
    "print(np.sum(X - W))\n",
    "print(np.sum(X - V))\n",
    "\n",
    "print(np.sum(X - W) - np.sum(X - V))"
   ]
  },
  {
   "cell_type": "code",
   "execution_count": 405,
   "metadata": {},
   "outputs": [
    {
     "name": "stdout",
     "output_type": "stream",
     "text": [
      "0.0\n",
      "6.938893903907228e-18\n",
      "6.938893903907228e-18\n",
      "6.938893903907228e-18\n",
      "6.938893903907228e-18\n",
      "0.0\n"
     ]
    }
   ],
   "source": [
    "a = 0.28932505388351715\n",
    "b = 0.35486670150988275\n",
    "c = 0.36691426775649227\n",
    "\n",
    "x = a*b*c\n",
    "y = b*a*c\n",
    "z = a*c*b\n",
    "\n",
    "w = c*b*a\n",
    "v = a*(b*c)\n",
    "\n",
    "# transposing a and b works as expected\n",
    "print(x - y) # == 0\n",
    "\n",
    "# transposing b and c seems to break the assumption of commutativity\n",
    "print(x - z) # != 0\n",
    "print(y - z) # != 0\n",
    "\n",
    "# cyclic permutation doesn't work\n",
    "print(x - w) # != 0\n",
    "\n",
    "# associativty doesn't work\n",
    "print(x - v) # != 0\n",
    "\n",
    "# cyclic permutation and different associativity are wrong in the same way\n",
    "print((x - w) - (x - v)) # == 0"
   ]
  },
  {
   "cell_type": "code",
   "execution_count": 457,
   "metadata": {},
   "outputs": [
    {
     "name": "stdout",
     "output_type": "stream",
     "text": [
      "commutativity holds in floating point arithmetic\n",
      "a*b*c - b*a*c == 0.0\n",
      "\n",
      "a*b*c - c*(b*a) == 0.0\n",
      "\n",
      "b*a*c - c*(b*a) == 0.0\n",
      "\n",
      "associativity does not\n",
      "a*b*c - c*b*a == 6.938893903907228e-18\n",
      "\n"
     ]
    }
   ],
   "source": [
    "a = 0.28932505388351715\n",
    "b = 0.35486670150988275\n",
    "c = 0.36691426775649227\n",
    "\n",
    "# construct a bunch of vars that \"should\" all be equal \n",
    "# ie x==y==z==w\n",
    "\n",
    "x = a*b*c\n",
    "y = b*a*c   # x==y by commutativity (swap a and b)\n",
    "z = c*(b*a) # y==z by commutativity (swap (b*a) and c)\n",
    "w = c*b*a   # z==w by associativity (move the parenthesis from (b*a) to (c*b)); this isn't true for float arithmetic\n",
    "\n",
    "xstr = 'a*b*c'\n",
    "ystr = 'b*a*c'\n",
    "zstr = 'c*(b*a)'\n",
    "wstr = 'c*b*a'\n",
    "\n",
    "print('commutativity holds in floating point arithmetic')\n",
    "print(\"%s - %s ==\" % (xstr, ystr), x - y, end='\\n\\n')\n",
    "print(\"%s - %s ==\" % (xstr, zstr), x - z, end='\\n\\n')\n",
    "print(\"%s - %s ==\" % (ystr, zstr), y - z, end='\\n\\n')\n",
    "\n",
    "print('associativity does not')\n",
    "print(\"%s - %s ==\" % (xstr, wstr), x - w, end='\\n\\n')"
   ]
  },
  {
   "cell_type": "markdown",
   "metadata": {},
   "source": [
    "# How to use `numpy.einsum`"
   ]
  },
  {
   "cell_type": "code",
   "execution_count": 446,
   "metadata": {},
   "outputs": [
    {
     "data": {
      "text/plain": [
       "array([[ 0.49389954,  0.86786482,  0.66339628],\n",
       "       [ 0.86786482,  1.52792247,  1.16644426],\n",
       "       [ 0.66339628,  1.16644426,  0.89251433]])"
      ]
     },
     "execution_count": 446,
     "metadata": {},
     "output_type": "execute_result"
    }
   ],
   "source": [
    "np.dot(np.dot(d, D), d.T)"
   ]
  },
  {
   "cell_type": "code",
   "execution_count": 447,
   "metadata": {},
   "outputs": [
    {
     "data": {
      "text/plain": [
       "array([[ 0.15368338,  0.45268695,  0.47464036],\n",
       "       [ 0.45268695,  1.3666801 ,  1.46473265],\n",
       "       [ 0.47464036,  1.46473265,  1.59980095]])"
      ]
     },
     "execution_count": 447,
     "metadata": {},
     "output_type": "execute_result"
    }
   ],
   "source": [
    "np.dot(np.dot(d.T, D), d)"
   ]
  },
  {
   "cell_type": "code",
   "execution_count": 463,
   "metadata": {},
   "outputs": [
    {
     "data": {
      "text/plain": [
       "array([[ 0.49389954,  0.86786482,  0.66339628],\n",
       "       [ 0.86786482,  1.52792247,  1.16644426],\n",
       "       [ 0.66339628,  1.16644426,  0.89251433]])"
      ]
     },
     "execution_count": 463,
     "metadata": {},
     "output_type": "execute_result"
    }
   ],
   "source": [
    "np.einsum('ij,jk,lk',d,D,d)"
   ]
  },
  {
   "cell_type": "code",
   "execution_count": 468,
   "metadata": {},
   "outputs": [
    {
     "data": {
      "text/plain": [
       "array([[ 0.49389954,  0.86786482,  0.66339628],\n",
       "       [ 0.86786482,  1.52792247,  1.16644426],\n",
       "       [ 0.66339628,  1.16644426,  0.89251433]])"
      ]
     },
     "execution_count": 468,
     "metadata": {},
     "output_type": "execute_result"
    }
   ],
   "source": [
    "np.einsum('cd,de,fe',d,D,d)"
   ]
  },
  {
   "cell_type": "code",
   "execution_count": 469,
   "metadata": {},
   "outputs": [
    {
     "data": {
      "text/plain": [
       "array([[ 0.49389954,  0.86786482,  0.66339628],\n",
       "       [ 0.86786482,  1.52792247,  1.16644426],\n",
       "       [ 0.66339628,  1.16644426,  0.89251433]])"
      ]
     },
     "execution_count": 469,
     "metadata": {},
     "output_type": "execute_result"
    }
   ],
   "source": [
    "np.einsum('cd,de,ef',d,D,d.T)"
   ]
  },
  {
   "cell_type": "code",
   "execution_count": 467,
   "metadata": {},
   "outputs": [
    {
     "data": {
      "text/plain": [
       "array([[ 0.49389954,  0.86786482,  0.66339628],\n",
       "       [ 0.86786482,  1.52792247,  1.16644426],\n",
       "       [ 0.66339628,  1.16644426,  0.89251433]])"
      ]
     },
     "execution_count": 467,
     "metadata": {},
     "output_type": "execute_result"
    }
   ],
   "source": [
    "np.einsum(d,[0,1],D,[1,2],d,[3,2])"
   ]
  },
  {
   "cell_type": "code",
   "execution_count": null,
   "metadata": {},
   "outputs": [],
   "source": []
  }
 ],
 "metadata": {
  "kernelspec": {
   "display_name": "Python 3",
   "language": "python",
   "name": "python3"
  },
  "language_info": {
   "codemirror_mode": {
    "name": "ipython",
    "version": 3
   },
   "file_extension": ".py",
   "mimetype": "text/x-python",
   "name": "python",
   "nbconvert_exporter": "python",
   "pygments_lexer": "ipython3",
   "version": "3.6.5"
  }
 },
 "nbformat": 4,
 "nbformat_minor": 2
}
