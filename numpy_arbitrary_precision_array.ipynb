{
 "cells": [
  {
   "cell_type": "markdown",
   "metadata": {},
   "source": [
    "written for https://stackoverflow.com/q/49888741/425458"
   ]
  },
  {
   "cell_type": "code",
   "execution_count": 1,
   "metadata": {},
   "outputs": [],
   "source": [
    "from mpmath import mp, mpf\n",
    "import numpy as np\n",
    "\n",
    "# stands for \"decimal places\". Larger values \n",
    "# mean higher precision, but slower computation\n",
    "mp.dps = 75\n",
    "\n",
    "def tompf(arr):\n",
    "    \"\"\"Convert any numpy array to one of arbitrary precision mpmath.mpf floats\n",
    "    \"\"\"\n",
    "    if arr.size and not isinstance(arr.flat[0], mpf):\n",
    "        return np.array([mpf(x) for x in arr.flat]).reshape(*arr.shape)\n",
    "    else:\n",
    "        return arr\n",
    "\n",
    "def dotmpf(arr0, arr1):\n",
    "    \"\"\"An arbitrary precision version of np.dot\n",
    "    \"\"\"\n",
    "    return tompf(arr0).dot(tompf(arr1))"
   ]
  },
  {
   "cell_type": "code",
   "execution_count": 33,
   "metadata": {},
   "outputs": [],
   "source": [
    "bshape = (8,8,8,8)\n",
    "dshape = (8,8)\n",
    "\n",
    "B = np.random.rand(*bshape)\n",
    "BT = np.swapaxes(B, -2, -1)\n",
    "\n",
    "d = np.random.rand(*dshape)\n",
    "D = d.dot(d.T)"
   ]
  },
  {
   "cell_type": "code",
   "execution_count": 34,
   "metadata": {},
   "outputs": [
    {
     "data": {
      "text/plain": [
       "-6.3664629124104977e-12"
      ]
     },
     "execution_count": 34,
     "metadata": {},
     "output_type": "execute_result"
    }
   ],
   "source": [
    "M = np.dot(np.dot(B, D), BT)\n",
    "np.sum(M - M.T)"
   ]
  },
  {
   "cell_type": "code",
   "execution_count": 35,
   "metadata": {},
   "outputs": [
    {
     "data": {
      "text/plain": [
       "mpf('0.0')"
      ]
     },
     "execution_count": 35,
     "metadata": {},
     "output_type": "execute_result"
    }
   ],
   "source": [
    "M = dotmpf(dotmpf(B, D), BT)\n",
    "np.sum(M - M.T)"
   ]
  },
  {
   "cell_type": "code",
   "execution_count": null,
   "metadata": {},
   "outputs": [],
   "source": []
  }
 ],
 "metadata": {
  "kernelspec": {
   "display_name": "Python 3",
   "language": "python",
   "name": "python3"
  },
  "language_info": {
   "codemirror_mode": {
    "name": "ipython",
    "version": 3
   },
   "file_extension": ".py",
   "mimetype": "text/x-python",
   "name": "python",
   "nbconvert_exporter": "python",
   "pygments_lexer": "ipython3",
   "version": "3.6.4"
  }
 },
 "nbformat": 4,
 "nbformat_minor": 2
}
