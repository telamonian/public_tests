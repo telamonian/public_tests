{
 "cells": [
  {
   "cell_type": "markdown",
   "metadata": {},
   "source": [
    "written for [https://stackoverflow.com/q/49774179/425458](https://stackoverflow.com/q/49774179/425458)"
   ]
  },
  {
   "cell_type": "code",
   "execution_count": 10,
   "metadata": {},
   "outputs": [
    {
     "name": "stdout",
     "output_type": "stream",
     "text": [
      "{1: (array([1, 1]), array([2, 2])), 2: (array([1, 4]), array([2, 5])), 3: (array([4, 4]), array([5, 5])), 4: (array([4, 1]), array([5, 2]))}\n"
     ]
    }
   ],
   "source": [
    "import numpy as np\n",
    "\n",
    "A = np.array([\n",
    "    [0, 0, 0, 0, 0, 0, 0],\n",
    "    [0, 1, 1, 0, 2, 2, 0],\n",
    "    [0, 1, 1, 0, 2, 2, 0],\n",
    "    [0, 0, 0, 0, 0, 0, 0],\n",
    "    [0, 4, 4, 0, 3, 3, 0],\n",
    "    [0, 4, 4, 0, 3, 3, 0],\n",
    "    [0, 0, 0, 0, 0, 0, 0]\n",
    "])\n",
    "\n",
    "bboxCorners = {}\n",
    "for i in range(1, A.max()+1):\n",
    "    B = np.argwhere(A==i)\n",
    "    bboxCorners[i] = B.min(0), B.max(0)\n",
    "\n",
    "print(bboxCorners)"
   ]
  },
  {
   "cell_type": "code",
   "execution_count": 9,
   "metadata": {},
   "outputs": [
    {
     "data": {
      "text/plain": [
       "{1: (array([1, 1]), array([2, 2])),\n",
       " 2: (array([1, 4]), array([2, 5])),\n",
       " 3: (array([4, 4]), array([5, 5])),\n",
       " 4: (array([4, 1]), array([5, 2]))}"
      ]
     },
     "execution_count": 9,
     "metadata": {},
     "output_type": "execute_result"
    }
   ],
   "source": [
    "bboxCorners"
   ]
  },
  {
   "cell_type": "code",
   "execution_count": 19,
   "metadata": {},
   "outputs": [
    {
     "name": "stdout",
     "output_type": "stream",
     "text": [
      "{1: [(slice(1, 3, None), slice(1, 3, None)), (slice(4, 7, None), slice(4, 7, None))], 2: [(slice(1, 3, None), slice(4, 6, None))], 3: [], 4: [(slice(4, 7, None), slice(0, 3, None))]}\n"
     ]
    }
   ],
   "source": [
    "import numpy as np\n",
    "import scipy.ndimage.measurements as mnts\n",
    "\n",
    "A = np.array([\n",
    "    [0, 0, 0, 0, 0, 0, 0],\n",
    "    [0, 1, 1, 0, 2, 2, 0],\n",
    "    [0, 1, 1, 0, 2, 2, 0],\n",
    "    [0, 0, 0, 0, 0, 0, 0],\n",
    "    [0, 4, 4, 0, 1, 1, 0],\n",
    "    [0, 4, 4, 0, 1, 1, 0],\n",
    "    [4, 0, 0, 0, 0, 0, 1]\n",
    "])\n",
    "\n",
    "structure = np.array([\n",
    "    [1,1,1],\n",
    "    [1,1,1],\n",
    "    [1,1,1]\n",
    "])\n",
    "\n",
    "bboxSlices = {}\n",
    "for i in range(1, A.max() + 1):\n",
    "    B = A.copy()\n",
    "    B[B != i] = 0\n",
    "\n",
    "    bboxSlices[i] = mnts.find_objects(mnts.label(B, structure=structure)[0])\n",
    "\n",
    "print(bboxSlices)"
   ]
  },
  {
   "cell_type": "code",
   "execution_count": 18,
   "metadata": {},
   "outputs": [
    {
     "data": {
      "text/plain": [
       "{1: [(slice(1, 3, None), slice(1, 3, None)),\n",
       "  (slice(4, 7, None), slice(4, 7, None))],\n",
       " 2: [(slice(1, 3, None), slice(4, 6, None))],\n",
       " 3: [],\n",
       " 4: [(slice(4, 7, None), slice(0, 3, None))]}"
      ]
     },
     "execution_count": 18,
     "metadata": {},
     "output_type": "execute_result"
    }
   ],
   "source": [
    "bboxSlices"
   ]
  }
 ],
 "metadata": {
  "kernelspec": {
   "display_name": "Python 3",
   "language": "python",
   "name": "python3"
  },
  "language_info": {
   "codemirror_mode": {
    "name": "ipython",
    "version": 3
   },
   "file_extension": ".py",
   "mimetype": "text/x-python",
   "name": "python",
   "nbconvert_exporter": "python",
   "pygments_lexer": "ipython3",
   "version": "3.6.4"
  }
 },
 "nbformat": 4,
 "nbformat_minor": 2
}
