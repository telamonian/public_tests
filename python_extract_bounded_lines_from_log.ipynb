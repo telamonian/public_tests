{
 "cells": [
  {
   "cell_type": "markdown",
   "metadata": {},
   "source": [
    "written for https://stackoverflow.com/q/49914346/425458"
   ]
  },
  {
   "cell_type": "code",
   "execution_count": 40,
   "metadata": {},
   "outputs": [
    {
     "data": {
      "text/plain": [
       "['NULL',\n",
       " 'retrieve BIOS data using F:\\\\tools64\\\\BiosConfigUtility64.exe /GetConfig:\\\\working\\\\bcudump.txt BCU is working',\n",
       " 'Open the firewall Firewall opened',\n",
       " 'NULL',\n",
       " 'SENDING UUTMonitor.exe /timeevent:PTEFIE',\n",
       " '02/26/2018 23:07:59 : @@@@ begin_\\\\process\\\\ProcessInit.bat <BISCON Version=xxxx\"> x y </BISCON> \\\\process\\\\ProcessInit.bat:::Parsing branding variables from INI files... found \\\\flags\\\\custom.ini PRODUCTIONLOCK not defined in custom.ini \\\\process\\\\ProcessInit.bat:::Calling SETVAR.BAT generated from INI data... 02/26/2018 23:08:04 : @@@@ end\\\\process\\\\ProcessInit.bat',\n",
       " 'NULL',\n",
       " 'Get SkeletonPO from \\\\working\\\\ubera.ini']"
      ]
     },
     "execution_count": 40,
     "metadata": {},
     "output_type": "execute_result"
    }
   ],
   "source": [
    "    def extractTxt(fpth, joinchar=' '):\n",
    "        loglines = []\n",
    "        with open(fpth) as f:\n",
    "            incall = False\n",
    "            calllines = []\n",
    "\n",
    "            for line in f:\n",
    "                if line.startswith('seq open') or line.startswith('seq log'):\n",
    "                    loglines.append('NULL')\n",
    "                elif line.startswith('seq call'):\n",
    "                    incall = True\n",
    "                elif incall:\n",
    "                    if line.startswith('seq done'):\n",
    "                        incall = False\n",
    "                        call = joinchar.join(l for l in calllines if l)\n",
    "                        calllines = []\n",
    "\n",
    "                        if not call.strip():\n",
    "                            loglines.append('NULL')\n",
    "                        else:\n",
    "                            loglines.append(call)\n",
    "                    else:\n",
    "                        calllines.append(line.strip())\n",
    "\n",
    "        return loglines\n",
    "\n",
    "    extractTxt('seq.txt')"
   ]
  },
  {
   "cell_type": "code",
   "execution_count": 30,
   "metadata": {},
   "outputs": [
    {
     "data": {
      "text/plain": [
       "'foo, bar, baz, bof'"
      ]
     },
     "execution_count": 30,
     "metadata": {},
     "output_type": "execute_result"
    }
   ],
   "source": [
    "', '.join(['foo', 'bar', 'baz', 'bof'])"
   ]
  },
  {
   "cell_type": "code",
   "execution_count": 36,
   "metadata": {},
   "outputs": [
    {
     "data": {
      "text/plain": [
       "['NULL',\n",
       " 'retrieve BIOS data using F:\\\\tools64\\\\BiosConfigUtility64.exe /GetConfig:\\\\working\\\\bcudump.txt BCU is working',\n",
       " 'Open the firewall Firewall opened',\n",
       " 'NULL',\n",
       " 'SENDING UUTMonitor.exe /timeevent:PTEFIE',\n",
       " '02/26/2018 23:07:59 : @@@@ begin_\\\\process\\\\ProcessInit.bat <BISCON Version=xxxx\"> x y </BISCON> \\\\process\\\\ProcessInit.bat:::Parsing branding variables from INI files... found \\\\flags\\\\custom.ini PRODUCTIONLOCK not defined in custom.ini \\\\process\\\\ProcessInit.bat:::Calling SETVAR.BAT generated from INI data... 02/26/2018 23:08:04 : @@@@ end\\\\process\\\\ProcessInit.bat',\n",
       " 'NULL',\n",
       " 'Get SkeletonPO from \\\\working\\\\ubera.ini']"
      ]
     },
     "execution_count": 36,
     "metadata": {},
     "output_type": "execute_result"
    }
   ],
   "source": [
    "    def extractTxt(fpth, joinchar=' '):\n",
    "        loglines = []\n",
    "        with open(fpth) as f:\n",
    "            incall = False\n",
    "            calllines = []\n",
    "\n",
    "            for line in f:\n",
    "                if line.startswith('seq call'):\n",
    "                    incall = True\n",
    "                elif incall and line.startswith('seq done'):\n",
    "                    incall = False\n",
    "                    \n",
    "                    call = ''\n",
    "                    for l in calllines:\n",
    "                        # l evaluates to False if it is empty\n",
    "                        if l:\n",
    "                            call += l + joinchar\n",
    "\n",
    "                    # remove any trailing joinchar\n",
    "                    if call.endswith(joinchar):\n",
    "                        call = call[:-len(joinchar)]\n",
    "                    \n",
    "                    \n",
    "                    calllines = []\n",
    "\n",
    "                    if not call.strip():\n",
    "                        loglines.append('NULL')\n",
    "                    else:\n",
    "                        loglines.append(call)\n",
    "                elif line.startswith('seq open') or line.startswith('seq log'):\n",
    "                    loglines.append('NULL')\n",
    "                elif incall:\n",
    "                    calllines.append(line.strip())\n",
    "\n",
    "        return loglines\n",
    "\n",
    "    extractTxt('seq.txt')\n",
    "\n"
   ]
  },
  {
   "cell_type": "code",
   "execution_count": null,
   "metadata": {},
   "outputs": [],
   "source": [
    "    ['NULL',\n",
    "     'retrieve BIOS data using F:\\\\tools64\\\\BiosConfigUtility64.exe /GetConfig:\\\\working\\\\bcudump.txt BCU is working',\n",
    "     'Open the firewall Firewall opened',\n",
    "     'NULL',\n",
    "     'SENDING UUTMonitor.exe /timeevent:PTEFIE',\n",
    "     '02/26/2018 23:07:59 : @@@@ begin_\\\\process\\\\ProcessInit.bat <BISCON Version=xxxx\"> x y </BISCON> \\\\process\\\\ProcessInit.bat:::Parsing branding variables from INI files... found \\\\flags\\\\custom.ini PRODUCTIONLOCK not defined in custom.ini \\\\process\\\\ProcessInit.bat:::Calling SETVAR.BAT generated from INI data... 02/26/2018 23:08:04 : @@@@ end\\\\process\\\\ProcessInit.bat',\n",
    "     'NULL',\n",
    "     'Get SkeletonPO from \\\\working\\\\ubera.ini']"
   ]
  },
  {
   "cell_type": "code",
   "execution_count": 28,
   "metadata": {},
   "outputs": [
    {
     "name": "stdout",
     "output_type": "stream",
     "text": [
      "NULL\n",
      "retrieve BIOS data using F:\\tools64\\BiosConfigUtility64.exe /GetConfig:\\working\\bcudump.txt\n",
      "BCU is working\n",
      "Open the firewall\n",
      "Firewall opened\n",
      "NULL\n",
      "SENDING UUTMonitor.exe /timeevent:PTEFIE\n",
      "02/26/2018 23:07:59 : @@@@ begin_\\process\\ProcessInit.bat\n",
      "\n",
      "<BISCON Version=xxxx\">\n",
      "x\n",
      "y\n",
      "</BISCON>\n",
      "\\process\\ProcessInit.bat:::Parsing branding variables from INI files...\n",
      "found \\flags\\custom.ini\n",
      "PRODUCTIONLOCK not defined in custom.ini\n",
      "\\process\\ProcessInit.bat:::Calling SETVAR.BAT generated from INI data...\n",
      "02/26/2018 23:08:04 : @@@@ end\\process\\ProcessInit.bat\n",
      "NULL\n",
      "Get SkeletonPO from \\working\\ubera.ini\n"
     ]
    }
   ],
   "source": [
    "    with open('seq.txt') as f:\n",
    "        incall = False\n",
    "        anyprinted = False\n",
    "        \n",
    "        for line in f:\n",
    "            if line.startswith('seq call'):\n",
    "                incall = True\n",
    "                continue\n",
    "            elif incall and line.startswith('seq done'):\n",
    "                incall = False\n",
    "                if not anyprinted:\n",
    "                    print 'NULL'\n",
    "                anyprinted = False\n",
    "                continue\n",
    "            elif line.startswith('seq open') or line.startswith('seq log'):\n",
    "                print 'NULL'\n",
    "                continue\n",
    "\n",
    "            if incall and (line.strip() or anyprinted):\n",
    "                print line,\n",
    "                anyprinted = True"
   ]
  },
  {
   "cell_type": "code",
   "execution_count": 19,
   "metadata": {},
   "outputs": [
    {
     "data": {
      "text/plain": [
       "True"
      ]
     },
     "execution_count": 19,
     "metadata": {},
     "output_type": "execute_result"
    }
   ],
   "source": [
    "a = \"\"\"NULL\n",
    "retrieve BIOS data using F:\\tools64\\BiosConfigUtility64.exe /GetConfig:\\working\\bcudump.txt\n",
    "BCU is working\n",
    "Open the firewall\n",
    "Firewall opened\n",
    "NULL\n",
    "SENDING UUTMonitor.exe /timeevent:PTEFIE\n",
    "02/26/2018 23:07:59 : @@@@ begin_\\process\\ProcessInit.bat\n",
    "\n",
    "<BISCON Version=xxxx\">\n",
    "x\n",
    "y\n",
    "</BISCON>\n",
    "\\process\\ProcessInit.bat:::Parsing branding variables from INI files...\n",
    "found \\flags\\custom.ini\n",
    "PRODUCTIONLOCK not defined in custom.ini\n",
    "\\process\\ProcessInit.bat:::Calling SETVAR.BAT generated from INI data...\n",
    "02/26/2018 23:08:04 : @@@@ end\\process\\ProcessInit.bat\n",
    "NULL\n",
    "Get SkeletonPO from \\working\\ubera.ini\"\"\"\n",
    "\n",
    "b = \"\"\"NULL\n",
    "retrieve BIOS data using F:\\tools64\\BiosConfigUtility64.exe /GetConfig:\\working\\bcudump.txt\n",
    "BCU is working\n",
    "Open the firewall\n",
    "Firewall opened\n",
    "NULL\n",
    "SENDING UUTMonitor.exe /timeevent:PTEFIE\n",
    "02/26/2018 23:07:59 : @@@@ begin_\\process\\ProcessInit.bat\n",
    "\n",
    "<BISCON Version=xxxx\">\n",
    "x\n",
    "y\n",
    "</BISCON>\n",
    "\\process\\ProcessInit.bat:::Parsing branding variables from INI files...\n",
    "found \\flags\\custom.ini\n",
    "PRODUCTIONLOCK not defined in custom.ini\n",
    "\\process\\ProcessInit.bat:::Calling SETVAR.BAT generated from INI data...\n",
    "02/26/2018 23:08:04 : @@@@ end\\process\\ProcessInit.bat\n",
    "NULL\n",
    "Get SkeletonPO from \\working\\ubera.ini\"\"\"\n",
    "\n",
    "a==b"
   ]
  },
  {
   "cell_type": "code",
   "execution_count": null,
   "metadata": {},
   "outputs": [],
   "source": []
  }
 ],
 "metadata": {
  "kernelspec": {
   "display_name": "Python 2",
   "language": "python",
   "name": "python2"
  },
  "language_info": {
   "codemirror_mode": {
    "name": "ipython",
    "version": 2
   },
   "file_extension": ".py",
   "mimetype": "text/x-python",
   "name": "python",
   "nbconvert_exporter": "python",
   "pygments_lexer": "ipython2",
   "version": "2.7.14"
  }
 },
 "nbformat": 4,
 "nbformat_minor": 2
}
