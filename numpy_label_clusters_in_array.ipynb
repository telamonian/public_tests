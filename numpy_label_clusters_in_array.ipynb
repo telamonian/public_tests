{
 "cells": [
  {
   "cell_type": "markdown",
   "metadata": {},
   "source": [
    "written for [https://stackoverflow.com/q/49776310/425458](https://stackoverflow.com/q/49776310/425458)"
   ]
  },
  {
   "cell_type": "code",
   "execution_count": 22,
   "metadata": {},
   "outputs": [
    {
     "name": "stdout",
     "output_type": "stream",
     "text": [
      "[[1 0 0 0]\n",
      " [0 4 4 0]\n",
      " [0 4 0 0]\n",
      " [0 4 0 0]]\n"
     ]
    }
   ],
   "source": [
    "    import numpy as np\n",
    "    import scipy.ndimage.measurements as mnts\n",
    "\n",
    "    A = np.array([\n",
    "        [1, 0, 0, 0],\n",
    "        [0, 1, 1, 0],\n",
    "        [0, 1, 0, 0],\n",
    "        [0, 1, 0, 0]\n",
    "    ])\n",
    "\n",
    "    B, clusters = mnts.label(A)\n",
    "    \n",
    "    \"\"\"B is now a version of A with labeled clusters:\n",
    "    \n",
    "    [[1 0 0 0]\n",
    "     [0 2 2 0]\n",
    "     [0 2 0 0]\n",
    "     [0 2 0 0]]\n",
    "     \n",
    "    clusters==2 holds the number of different clusters\n",
    "    \"\"\"\n",
    "    \n",
    "    sizes = mnts.sum(A, B, index=np.arange(1, clusters + 1))\n",
    "    \n",
    "    \"\"\"sizes is a list of cluster sizes: [1, 4]\n",
    "    \"\"\"\n",
    "    \n",
    "    # now we loop over the pairs of labels and sizes\n",
    "    for label,size in zip(range(1, clusters + 1), sizes):\n",
    "        # assign the size to each labeled entry in B\n",
    "        B[B == label] = size\n",
    "\n",
    "    print(B)"
   ]
  }
 ],
 "metadata": {
  "kernelspec": {
   "display_name": "Python 3",
   "language": "python",
   "name": "python3"
  },
  "language_info": {
   "codemirror_mode": {
    "name": "ipython",
    "version": 3
   },
   "file_extension": ".py",
   "mimetype": "text/x-python",
   "name": "python",
   "nbconvert_exporter": "python",
   "pygments_lexer": "ipython3",
   "version": "3.6.4"
  }
 },
 "nbformat": 4,
 "nbformat_minor": 2
}
