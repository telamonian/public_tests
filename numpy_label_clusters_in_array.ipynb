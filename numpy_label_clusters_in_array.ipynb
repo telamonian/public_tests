{
 "cells": [
  {
   "cell_type": "markdown",
   "metadata": {},
   "source": [
    "written for [https://stackoverflow.com/q/49776310/425458](https://stackoverflow.com/q/49776310/425458)"
   ]
  },
  {
   "cell_type": "code",
   "execution_count": 1,
   "metadata": {},
   "outputs": [
    {
     "name": "stdout",
     "output_type": "stream",
     "text": [
      "[[1 0 0 0]\n",
      " [0 4 4 0]\n",
      " [0 4 0 0]\n",
      " [0 4 0 0]]\n"
     ]
    }
   ],
   "source": [
    "import numpy as np\n",
    "import scipy.ndimage.measurements as mnts\n",
    "\n",
    "A = np.array([\n",
    "    [1, 0, 0, 0],\n",
    "    [0, 1, 1, 0],\n",
    "    [0, 1, 0, 0],\n",
    "    [0, 1, 0, 0]\n",
    "])\n",
    "\n",
    "# labeled is a version of A with labeled clusters:\n",
    "#\n",
    "# [[1 0 0 0]\n",
    "#  [0 2 2 0]\n",
    "#  [0 2 0 0]\n",
    "#  [0 2 0 0]]\n",
    "#\n",
    "# clusters holds the number of different clusters: 2\n",
    "labeled, clusters = mnts.label(A)\n",
    "\n",
    "# sizes is an array of cluster sizes: [0, 1, 4]\n",
    "sizes = mnts.sum(A, labeled, index=range(clusters + 1))\n",
    "\n",
    "# mnts.sum always outputs a float array, so we'll convert sizes to int\n",
    "sizes = sizes.astype(int)\n",
    "\n",
    "# get an array with the same shape as labeled and the \n",
    "# appropriate values from sizes by indexing one array \n",
    "# with the other. See the [`numpy` indexing docs](https://docs.scipy.org/doc/numpy-1.14.0/user/basics.indexing.html#index-arrays) for details\n",
    "labeledBySize = sizes[labeled]\n",
    "\n",
    "print(labeledBySize)"
   ]
  },
  {
   "cell_type": "code",
   "execution_count": 2,
   "metadata": {},
   "outputs": [],
   "source": [
    "import numpy as np\n",
    "import scipy.ndimage.measurements as mnts\n",
    "\n",
    "# function version\n",
    "def labelBySize(arr):\n",
    "    labeled, clusters = mnts.label(arr)\n",
    "    sizes = mnts.sum(arr, labeled, index=range(clusters + 1)).astype(int)\n",
    "    return sizes[labeled],sizes"
   ]
  },
  {
   "cell_type": "code",
   "execution_count": 3,
   "metadata": {},
   "outputs": [
    {
     "name": "stdout",
     "output_type": "stream",
     "text": [
      "Random array:\n",
      "[[0 0 0 0 1 0 1 0 0 0]\n",
      " [0 0 0 0 1 1 1 0 0 0]\n",
      " [1 0 1 0 0 1 0 0 1 1]\n",
      " [0 0 0 1 0 0 0 1 0 1]\n",
      " [0 0 1 0 0 0 0 1 1 0]\n",
      " [0 1 0 1 1 1 0 0 1 1]\n",
      " [0 1 0 1 0 0 1 1 0 1]\n",
      " [0 0 1 1 0 1 1 1 0 1]\n",
      " [1 0 0 0 1 0 1 1 0 1]\n",
      " [0 0 1 1 0 0 1 0 0 1]]\n",
      "Random array cluster sizes:\n",
      "[0 6 1 1 3 1 9 1 2 6 8 1 1 2]\n",
      "Random array labeled by cluster sizes:\n",
      "[[0 0 0 0 6 0 6 0 0 0]\n",
      " [0 0 0 0 6 6 6 0 0 0]\n",
      " [1 0 1 0 0 6 0 0 3 3]\n",
      " [0 0 0 1 0 0 0 9 0 3]\n",
      " [0 0 1 0 0 0 0 9 9 0]\n",
      " [0 2 0 6 6 6 0 0 9 9]\n",
      " [0 2 0 6 0 0 8 8 0 9]\n",
      " [0 0 6 6 0 8 8 8 0 9]\n",
      " [1 0 0 0 1 0 8 8 0 9]\n",
      " [0 0 2 2 0 0 8 0 0 9]]\n"
     ]
    }
   ],
   "source": [
    "arr = np.random.randint(0,2,size=(10,10))\n",
    "print('Random array:\\n%s' % arr)\n",
    "\n",
    "arrLabeledBySize, arrClusterSizes = labelBySize(arr)\n",
    "print('Random array cluster sizes:\\n%s' % arrClusterSizes)\n",
    "print('Random array labeled by cluster sizes:\\n%s' % arrLabeledBySize)"
   ]
  },
  {
   "cell_type": "code",
   "execution_count": null,
   "metadata": {},
   "outputs": [],
   "source": []
  }
 ],
 "metadata": {
  "kernelspec": {
   "display_name": "Python 3",
   "language": "python",
   "name": "python3"
  },
  "language_info": {
   "codemirror_mode": {
    "name": "ipython",
    "version": 3
   },
   "file_extension": ".py",
   "mimetype": "text/x-python",
   "name": "python",
   "nbconvert_exporter": "python",
   "pygments_lexer": "ipython3",
   "version": "3.6.4"
  }
 },
 "nbformat": 4,
 "nbformat_minor": 2
}
