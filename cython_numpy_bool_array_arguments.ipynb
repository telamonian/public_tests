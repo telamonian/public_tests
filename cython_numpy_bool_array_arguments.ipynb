{
 "cells": [
  {
   "cell_type": "markdown",
   "metadata": {},
   "source": [
    "written for https://stackoverflow.com/q/49715547/425458"
   ]
  },
  {
   "cell_type": "code",
   "execution_count": 1,
   "metadata": {},
   "outputs": [],
   "source": [
    "%load_ext cython"
   ]
  },
  {
   "cell_type": "code",
   "execution_count": 2,
   "metadata": {},
   "outputs": [],
   "source": [
    "%%cython -f\n",
    "import numpy as np\n",
    "cimport numpy as np\n",
    "cimport cython\n",
    "\n",
    "def boolFunc(np.ndarray[np.npy_bool, ndim=1, cast=True] npdata):\n",
    "    print(npdata)\n",
    "    return npdata\n",
    "\n",
    "def boolFuncNoCast(np.ndarray[np.npy_bool, ndim=1] npdata):\n",
    "    print(npdata)\n",
    "    return npdata"
   ]
  },
  {
   "cell_type": "code",
   "execution_count": 3,
   "metadata": {},
   "outputs": [
    {
     "name": "stdout",
     "output_type": "stream",
     "text": [
      "[ True  True False]\n",
      "[ True  True False]\n"
     ]
    }
   ],
   "source": [
    "arr = np.random.randint(0,2, size=3, dtype=int)\n",
    "boolArr = np.array(arr, dtype=bool)\n",
    "\n",
    "# boolFunc(arr)                     # type mismatch, raises \"ValueError: Item size of buffer (8 bytes) does not match size of 'npy_bool' (1 byte)\"\n",
    "boolFunc(boolArr)\n",
    "returnArr = boolFunc(boolArr)\n",
    "assert returnArr.dtype is np.dtype(bool)"
   ]
  },
  {
   "cell_type": "code",
   "execution_count": 4,
   "metadata": {},
   "outputs": [
    {
     "ename": "ValueError",
     "evalue": "Does not understand character buffer dtype format string ('?')",
     "output_type": "error",
     "traceback": [
      "\u001b[0;31m---------------------------------------------------------------------------\u001b[0m",
      "\u001b[0;31mValueError\u001b[0m                                Traceback (most recent call last)",
      "\u001b[0;32m<ipython-input-4-ec59ed54d55c>\u001b[0m in \u001b[0;36m<module>\u001b[0;34m\u001b[0m\n\u001b[0;32m----> 1\u001b[0;31m \u001b[0mreturnArr\u001b[0m \u001b[0;34m=\u001b[0m \u001b[0mboolFuncNoCast\u001b[0m\u001b[0;34m(\u001b[0m\u001b[0mboolArr\u001b[0m\u001b[0;34m)\u001b[0m\u001b[0;34m\u001b[0m\u001b[0m\n\u001b[0m\u001b[1;32m      2\u001b[0m \u001b[0;32massert\u001b[0m \u001b[0mreturnArr\u001b[0m\u001b[0;34m.\u001b[0m\u001b[0mdtype\u001b[0m \u001b[0;32mis\u001b[0m \u001b[0mnp\u001b[0m\u001b[0;34m.\u001b[0m\u001b[0mdtype\u001b[0m\u001b[0;34m(\u001b[0m\u001b[0mbool\u001b[0m\u001b[0;34m)\u001b[0m\u001b[0;34m\u001b[0m\u001b[0m\n",
      "\u001b[0;32m_cython_magic_b0020bd6a128d8d219469edb11b0d478.pyx\u001b[0m in \u001b[0;36m_cython_magic_b0020bd6a128d8d219469edb11b0d478.boolFuncNoCast\u001b[0;34m()\u001b[0m\n",
      "\u001b[0;31mValueError\u001b[0m: Does not understand character buffer dtype format string ('?')"
     ]
    }
   ],
   "source": [
    "returnArr = boolFuncNoCast(boolArr)\n",
    "assert returnArr.dtype is np.dtype(bool)"
   ]
  },
  {
   "cell_type": "code",
   "execution_count": 16,
   "metadata": {},
   "outputs": [],
   "source": [
    "%%cython\n",
    "import numpy as np\n",
    "cimport numpy as np\n",
    "cimport cython\n",
    "\n",
    "def doubleFunc(np.ndarray[np.npy_double, ndim=1] npdata):\n",
    "    print(npdata)\n",
    "    return npdata"
   ]
  },
  {
   "cell_type": "code",
   "execution_count": 19,
   "metadata": {},
   "outputs": [
    {
     "name": "stdout",
     "output_type": "stream",
     "text": [
      "[0.59770047 0.81582788 0.32093128]\n",
      "[0.59770047 0.81582788 0.32093128]\n"
     ]
    }
   ],
   "source": [
    "arr = np.random.rand(3)\n",
    "\n",
    "doubleFunc(arr)\n",
    "returnArr = doubleFunc(arr)\n",
    "assert returnArr.dtype is np.dtype(float)"
   ]
  },
  {
   "cell_type": "code",
   "execution_count": 22,
   "metadata": {},
   "outputs": [
    {
     "data": {
      "text/plain": [
       "{'data': (140497934931376, False),\n",
       " 'strides': None,\n",
       " 'descr': [('', '|b1')],\n",
       " 'typestr': '|b1',\n",
       " 'shape': (3,),\n",
       " 'version': 3}"
      ]
     },
     "execution_count": 22,
     "metadata": {},
     "output_type": "execute_result"
    }
   ],
   "source": [
    "boolArr.__array_interface__"
   ]
  },
  {
   "cell_type": "code",
   "execution_count": null,
   "metadata": {},
   "outputs": [],
   "source": []
  }
 ],
 "metadata": {
  "kernelspec": {
   "display_name": "Python 3",
   "language": "python",
   "name": "python3"
  },
  "language_info": {
   "codemirror_mode": {
    "name": "ipython",
    "version": 3
   },
   "file_extension": ".py",
   "mimetype": "text/x-python",
   "name": "python",
   "nbconvert_exporter": "python",
   "pygments_lexer": "ipython3",
   "version": "3.6.5"
  }
 },
 "nbformat": 4,
 "nbformat_minor": 2
}
