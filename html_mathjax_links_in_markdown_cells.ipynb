{
 "cells": [
  {
   "cell_type": "markdown",
   "metadata": {
    "collapsed": true
   },
   "source": [
    "<a id='dadd'></a>\n",
    "# addition was invented in 1842 blah blah blah"
   ]
  },
  {
   "cell_type": "markdown",
   "metadata": {},
   "source": [
    "Lorem ipsum dolor sit amet, consectetur adipiscing elit. Vivamus condimentum dui non feugiat tempus. Mauris ac libero finibus, pharetra magna quis, blandit diam. Mauris non ex ut nisi pretium venenatis. Ut vehicula, neque semper dignissim finibus, eros nibh vehicula risus, ut porttitor sapien mauris a ex. Pellentesque in nunc quis arcu pulvinar auctor. Sed volutpat massa nisl, et cursus elit volutpat vitae. Pellentesque sagittis venenatis vehicula. Cras vitae imperdiet ante. Duis quis arcu hendrerit ipsum placerat volutpat at a tellus. Donec ac posuere orci. In porttitor nibh quis massa aliquam, id tristique sem vulputate. Nullam venenatis lectus quis mi tempus tempor. Vestibulum ante ipsum primis in faucibus orci luctus et ultrices posuere cubilia Curae;\n",
    "\n",
    "Phasellus sit amet arcu sed diam faucibus vehicula. Aliquam vel ante massa. Nulla facilisi. Vestibulum dictum erat enim, id ornare erat rutrum sit amet. Etiam at dui pulvinar, egestas nulla in, condimentum metus. Integer massa nisl, dapibus iaculis commodo vitae, interdum ac libero. Vivamus eget neque justo. Orci varius natoque penatibus et magnis dis parturient montes, nascetur ridiculus mus. Aenean ultricies neque eu mi pellentesque finibus. Etiam augue sapien, blandit non tempus nec, scelerisque eu odio. Etiam tempor cursus mauris, vel dictum leo ultricies ac. Donec ultrices ex ac magna pellentesque posuere. Ut suscipit est nec tellus pellentesque, at pharetra dui cursus.\n",
    "\n",
    "Cras dictum mattis iaculis. Curabitur vulputate mi nunc, eget commodo velit egestas sit amet. Nunc consectetur sodales feugiat. Vivamus fringilla ex leo. Aliquam dictum felis sed suscipit venenatis. Pellentesque non nulla eget eros aliquam porttitor. Fusce volutpat est pulvinar rutrum ornare. Nunc posuere arcu sem, vitae ullamcorper quam consectetur in. Duis in ipsum feugiat, tincidunt eros ut, vulputate nisl. Curabitur accumsan congue mauris.\n",
    "\n",
    "Curabitur ut tellus nisi. Sed sollicitudin consectetur ligula, eget efficitur lorem volutpat et. Morbi a egestas erat, quis accumsan orci. Nunc bibendum odio eros, vitae rhoncus ligula cursus at. Quisque sit amet augue a ipsum eleifend pellentesque. Nulla porttitor neque at ultrices hendrerit. Maecenas mollis sapien et metus dignissim, nec lacinia massa rhoncus. Aliquam mollis in nulla sit amet luctus. Aliquam lectus felis, tempus ut congue faucibus, tristique nec massa. Maecenas imperdiet viverra rutrum."
   ]
  },
  {
   "cell_type": "markdown",
   "metadata": {},
   "source": [
    "Lorem ipsum dolor sit amet, consectetur adipiscing elit. Vivamus condimentum dui non feugiat tempus. Mauris ac libero finibus, pharetra magna quis, blandit diam. Mauris non ex ut nisi pretium venenatis. Ut vehicula, neque semper dignissim finibus, eros nibh vehicula risus, ut porttitor sapien mauris a ex. Pellentesque in nunc quis arcu pulvinar auctor. Sed volutpat massa nisl, et cursus elit volutpat vitae. Pellentesque sagittis venenatis vehicula. Cras vitae imperdiet ante. Duis quis arcu hendrerit ipsum placerat volutpat at a tellus. Donec ac posuere orci. In porttitor nibh quis massa aliquam, id tristique sem vulputate. Nullam venenatis lectus quis mi tempus tempor. Vestibulum ante ipsum primis in faucibus orci luctus et ultrices posuere cubilia Curae;\n",
    "\n",
    "Phasellus sit amet arcu sed diam faucibus vehicula. Aliquam vel ante massa. Nulla facilisi. Vestibulum dictum erat enim, id ornare erat rutrum sit amet. Etiam at dui pulvinar, egestas nulla in, condimentum metus. Integer massa nisl, dapibus iaculis commodo vitae, interdum ac libero. Vivamus eget neque justo. Orci varius natoque penatibus et magnis dis parturient montes, nascetur ridiculus mus. Aenean ultricies neque eu mi pellentesque finibus. Etiam augue sapien, blandit non tempus nec, scelerisque eu odio. Etiam tempor cursus mauris, vel dictum leo ultricies ac. Donec ultrices ex ac magna pellentesque posuere. Ut suscipit est nec tellus pellentesque, at pharetra dui cursus.\n",
    "\n",
    "Cras dictum mattis iaculis. Curabitur vulputate mi nunc, eget commodo velit egestas sit amet. Nunc consectetur sodales feugiat. Vivamus fringilla ex leo. Aliquam dictum felis sed suscipit venenatis. Pellentesque non nulla eget eros aliquam porttitor. Fusce volutpat est pulvinar rutrum ornare. Nunc posuere arcu sem, vitae ullamcorper quam consectetur in. Duis in ipsum feugiat, tincidunt eros ut, vulputate nisl. Curabitur accumsan congue mauris.\n",
    "\n",
    "Curabitur ut tellus nisi. Sed sollicitudin consectetur ligula, eget efficitur lorem volutpat et. Morbi a egestas erat, quis accumsan orci. Nunc bibendum odio eros, vitae rhoncus ligula cursus at. Quisque sit amet augue a ipsum eleifend pellentesque. Nulla porttitor neque at ultrices hendrerit. Maecenas mollis sapien et metus dignissim, nec lacinia massa rhoncus. Aliquam mollis in nulla sit amet luctus. Aliquam lectus felis, tempus ut congue faucibus, tristique nec massa. Maecenas imperdiet viverra rutrum."
   ]
  },
  {
   "cell_type": "markdown",
   "metadata": {
    "collapsed": true
   },
   "source": [
    "<a id='ihop'></a>\n",
    "# induction soon followed after"
   ]
  },
  {
   "cell_type": "markdown",
   "metadata": {},
   "source": [
    "Lorem ipsum dolor sit amet, consectetur adipiscing elit. Vivamus condimentum dui non feugiat tempus. Mauris ac libero finibus, pharetra magna quis, blandit diam. Mauris non ex ut nisi pretium venenatis. Ut vehicula, neque semper dignissim finibus, eros nibh vehicula risus, ut porttitor sapien mauris a ex. Pellentesque in nunc quis arcu pulvinar auctor. Sed volutpat massa nisl, et cursus elit volutpat vitae. Pellentesque sagittis venenatis vehicula. Cras vitae imperdiet ante. Duis quis arcu hendrerit ipsum placerat volutpat at a tellus. Donec ac posuere orci. In porttitor nibh quis massa aliquam, id tristique sem vulputate. Nullam venenatis lectus quis mi tempus tempor. Vestibulum ante ipsum primis in faucibus orci luctus et ultrices posuere cubilia Curae;\n",
    "\n",
    "Phasellus sit amet arcu sed diam faucibus vehicula. Aliquam vel ante massa. Nulla facilisi. Vestibulum dictum erat enim, id ornare erat rutrum sit amet. Etiam at dui pulvinar, egestas nulla in, condimentum metus. Integer massa nisl, dapibus iaculis commodo vitae, interdum ac libero. Vivamus eget neque justo. Orci varius natoque penatibus et magnis dis parturient montes, nascetur ridiculus mus. Aenean ultricies neque eu mi pellentesque finibus. Etiam augue sapien, blandit non tempus nec, scelerisque eu odio. Etiam tempor cursus mauris, vel dictum leo ultricies ac. Donec ultrices ex ac magna pellentesque posuere. Ut suscipit est nec tellus pellentesque, at pharetra dui cursus.\n",
    "\n",
    "Cras dictum mattis iaculis. Curabitur vulputate mi nunc, eget commodo velit egestas sit amet. Nunc consectetur sodales feugiat. Vivamus fringilla ex leo. Aliquam dictum felis sed suscipit venenatis. Pellentesque non nulla eget eros aliquam porttitor. Fusce volutpat est pulvinar rutrum ornare. Nunc posuere arcu sem, vitae ullamcorper quam consectetur in. Duis in ipsum feugiat, tincidunt eros ut, vulputate nisl. Curabitur accumsan congue mauris.\n",
    "\n",
    "Curabitur ut tellus nisi. Sed sollicitudin consectetur ligula, eget efficitur lorem volutpat et. Morbi a egestas erat, quis accumsan orci. Nunc bibendum odio eros, vitae rhoncus ligula cursus at. Quisque sit amet augue a ipsum eleifend pellentesque. Nulla porttitor neque at ultrices hendrerit. Maecenas mollis sapien et metus dignissim, nec lacinia massa rhoncus. Aliquam mollis in nulla sit amet luctus. Aliquam lectus felis, tempus ut congue faucibus, tristique nec massa. Maecenas imperdiet viverra rutrum."
   ]
  },
  {
   "cell_type": "markdown",
   "metadata": {},
   "source": [
    "Lorem ipsum dolor sit amet, consectetur adipiscing elit. Vivamus condimentum dui non feugiat tempus. Mauris ac libero finibus, pharetra magna quis, blandit diam. Mauris non ex ut nisi pretium venenatis. Ut vehicula, neque semper dignissim finibus, eros nibh vehicula risus, ut porttitor sapien mauris a ex. Pellentesque in nunc quis arcu pulvinar auctor. Sed volutpat massa nisl, et cursus elit volutpat vitae. Pellentesque sagittis venenatis vehicula. Cras vitae imperdiet ante. Duis quis arcu hendrerit ipsum placerat volutpat at a tellus. Donec ac posuere orci. In porttitor nibh quis massa aliquam, id tristique sem vulputate. Nullam venenatis lectus quis mi tempus tempor. Vestibulum ante ipsum primis in faucibus orci luctus et ultrices posuere cubilia Curae;\n",
    "\n",
    "Phasellus sit amet arcu sed diam faucibus vehicula. Aliquam vel ante massa. Nulla facilisi. Vestibulum dictum erat enim, id ornare erat rutrum sit amet. Etiam at dui pulvinar, egestas nulla in, condimentum metus. Integer massa nisl, dapibus iaculis commodo vitae, interdum ac libero. Vivamus eget neque justo. Orci varius natoque penatibus et magnis dis parturient montes, nascetur ridiculus mus. Aenean ultricies neque eu mi pellentesque finibus. Etiam augue sapien, blandit non tempus nec, scelerisque eu odio. Etiam tempor cursus mauris, vel dictum leo ultricies ac. Donec ultrices ex ac magna pellentesque posuere. Ut suscipit est nec tellus pellentesque, at pharetra dui cursus.\n",
    "\n",
    "Cras dictum mattis iaculis. Curabitur vulputate mi nunc, eget commodo velit egestas sit amet. Nunc consectetur sodales feugiat. Vivamus fringilla ex leo. Aliquam dictum felis sed suscipit venenatis. Pellentesque non nulla eget eros aliquam porttitor. Fusce volutpat est pulvinar rutrum ornare. Nunc posuere arcu sem, vitae ullamcorper quam consectetur in. Duis in ipsum feugiat, tincidunt eros ut, vulputate nisl. Curabitur accumsan congue mauris.\n",
    "\n",
    "Curabitur ut tellus nisi. Sed sollicitudin consectetur ligula, eget efficitur lorem volutpat et. Morbi a egestas erat, quis accumsan orci. Nunc bibendum odio eros, vitae rhoncus ligula cursus at. Quisque sit amet augue a ipsum eleifend pellentesque. Nulla porttitor neque at ultrices hendrerit. Maecenas mollis sapien et metus dignissim, nec lacinia massa rhoncus. Aliquam mollis in nulla sit amet luctus. Aliquam lectus felis, tempus ut congue faucibus, tristique nec massa. Maecenas imperdiet viverra rutrum."
   ]
  },
  {
   "cell_type": "markdown",
   "metadata": {},
   "source": [
    "$\\qquad\\qquad\\qquad\\qquad\\qquad\\qquad\\qquad\\qquad 0 + S(a) = S(0 + a) \\qquad\\qquad\\qquad\\qquad$ [(by definition of addition)](#dadd)\n",
    "$\\;\\quad\\qquad\\qquad\\qquad\\qquad\\qquad\\qquad\\qquad\\qquad\\qquad = S(a) \\qquad\\qquad\\qquad\\qquad\\quad$ [(by induction hypothesis)](#ihop)\n"
   ]
  },
  {
   "cell_type": "code",
   "execution_count": null,
   "metadata": {},
   "outputs": [],
   "source": []
  }
 ],
 "metadata": {
  "kernelspec": {
   "display_name": "Python 3",
   "language": "python",
   "name": "python3"
  },
  "language_info": {
   "codemirror_mode": {
    "name": "ipython",
    "version": 3
   },
   "file_extension": ".py",
   "mimetype": "text/x-python",
   "name": "python",
   "nbconvert_exporter": "python",
   "pygments_lexer": "ipython3",
   "version": "3.6.4"
  }
 },
 "nbformat": 4,
 "nbformat_minor": 2
}
