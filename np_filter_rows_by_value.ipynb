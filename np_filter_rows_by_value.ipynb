{
 "cells": [
  {
   "cell_type": "markdown",
   "metadata": {},
   "source": [
    "written for https://stackoverflow.com/q/49930830/425458"
   ]
  },
  {
   "cell_type": "code",
   "execution_count": 15,
   "metadata": {},
   "outputs": [
    {
     "name": "stdout",
     "output_type": "stream",
     "text": [
      "ixs:\n",
      "array([[False, False, False],\n",
      "       [ True,  True,  True],\n",
      "       [ True,  True,  True],\n",
      "       [ True, False,  True]])\n",
      "arrSliced:\n",
      "array([4, 5, 6, 7, 8, 9, 3, 1])\n"
     ]
    }
   ],
   "source": [
    "import numpy as np\n",
    "\n",
    "# question asker's code\n",
    "arr = np.array([\n",
    "    [1,2,3],\n",
    "    [4,5,6],\n",
    "    [7,8,9],\n",
    "    [3,2,1]\n",
    "])\n",
    "\n",
    "# doesn't work the way that op wants.\n",
    "# numpy builds ixs by iterating over rows, then doing an element-wise comparison between the contents of each row and the LHS\n",
    "ixs = arr != [1,2,3]\n",
    "arrSliced = arr[ixs]\n",
    "\n",
    "print('ixs:\\n%s' % ixs.__repr__())\n",
    "print('arrSliced:\\n%s' % arrSliced.__repr__())"
   ]
  },
  {
   "cell_type": "code",
   "execution_count": 29,
   "metadata": {},
   "outputs": [
    {
     "data": {
      "text/plain": [
       "array([[1, 2, 3],\n",
       "       [3, 2, 1]])"
      ]
     },
     "execution_count": 29,
     "metadata": {},
     "output_type": "execute_result"
    }
   ],
   "source": [
    "import numpy as np\n",
    "\n",
    "def selectRow(arr, badrow):\n",
    "    badset = set(badrow)\n",
    "    return np.array([row for row in arr if badset == set(row)])\n",
    "    \n",
    "arr = np.array([\n",
    "    [1,2,3],\n",
    "    [4,5,6],\n",
    "    [7,8,9],\n",
    "    [3,2,1]\n",
    "])\n",
    "\n",
    "selectRow(arr, [1,2,3])"
   ]
  },
  {
   "cell_type": "code",
   "execution_count": 38,
   "metadata": {},
   "outputs": [
    {
     "name": "stdout",
     "output_type": "stream",
     "text": [
      "[False  True  True False]\n"
     ]
    },
    {
     "data": {
      "text/plain": [
       "array([[1, 2, 3],\n",
       "       [3, 2, 1]])"
      ]
     },
     "execution_count": 38,
     "metadata": {},
     "output_type": "execute_result"
    }
   ],
   "source": [
    "print((arr != [1,2,3]).all(1))\n",
    "arr[~(arr != [1,2,3]).all(1)]"
   ]
  },
  {
   "cell_type": "code",
   "execution_count": 39,
   "metadata": {},
   "outputs": [
    {
     "name": "stdout",
     "output_type": "stream",
     "text": [
      "[ True False False  True]\n"
     ]
    },
    {
     "data": {
      "text/plain": [
       "array([[1, 2, 3],\n",
       "       [3, 2, 1]])"
      ]
     },
     "execution_count": 39,
     "metadata": {},
     "output_type": "execute_result"
    }
   ],
   "source": [
    "print((arr == [1,2,3]).any(1))\n",
    "arr[(arr == [1,2,3]).any(1)]"
   ]
  },
  {
   "cell_type": "code",
   "execution_count": 40,
   "metadata": {},
   "outputs": [
    {
     "name": "stdout",
     "output_type": "stream",
     "text": [
      "7.28 µs ± 85.3 ns per loop (mean ± std. dev. of 7 runs, 100000 loops each)\n"
     ]
    }
   ],
   "source": [
    "%%timeit\n",
    "selectRow(arr, [1,2,3])"
   ]
  },
  {
   "cell_type": "code",
   "execution_count": 34,
   "metadata": {},
   "outputs": [
    {
     "name": "stdout",
     "output_type": "stream",
     "text": [
      "8.05 µs ± 155 ns per loop (mean ± std. dev. of 7 runs, 100000 loops each)\n"
     ]
    }
   ],
   "source": [
    "%%timeit\n",
    "arr[~(arr != [1,2,3]).all(1)]"
   ]
  },
  {
   "cell_type": "code",
   "execution_count": 41,
   "metadata": {},
   "outputs": [
    {
     "name": "stdout",
     "output_type": "stream",
     "text": [
      "7.32 µs ± 95.4 ns per loop (mean ± std. dev. of 7 runs, 100000 loops each)\n"
     ]
    }
   ],
   "source": [
    "%%timeit\n",
    "arr[(arr == [1,2,3]).any(1)]"
   ]
  },
  {
   "cell_type": "code",
   "execution_count": 22,
   "metadata": {},
   "outputs": [
    {
     "name": "stdout",
     "output_type": "stream",
     "text": [
      "[[4 5 6]\n",
      " [7 8 9]\n",
      " [3 2 1]]\n",
      "\n",
      "[[4 5 6]\n",
      " [7 8 9]]\n"
     ]
    }
   ],
   "source": [
    "import numpy as np\n",
    "\n",
    "def withoutRow(arr, badrow, ordered=True):\n",
    "    if ordered:\n",
    "        return np.array([row for row in arr if not np.array_equal(row, badrow)])\n",
    "    else:\n",
    "        badset = set(badrow)\n",
    "        return np.array([row for row in arr if badset != set(row)])\n",
    "    \n",
    "arr = np.array([\n",
    "    [1,2,3],\n",
    "    [4,5,6],\n",
    "    [7,8,9],\n",
    "    [3,2,1]\n",
    "])\n",
    "\n",
    "# removing all exactly matching points\n",
    "wr = withoutRow(arr, [1,2,3])\n",
    "\n",
    "# removing all points with matching coordinates, any order\n",
    "wrAnyOrder = withoutRow(arr, [1,2,3], ordered=False)\n",
    "\n",
    "print(wr)\n",
    "print()\n",
    "print(wrAnyOrder)"
   ]
  },
  {
   "cell_type": "code",
   "execution_count": 23,
   "metadata": {},
   "outputs": [
    {
     "data": {
      "text/plain": [
       "array([[4, 5, 6],\n",
       "       [7, 8, 9],\n",
       "       [3, 2, 1]])"
      ]
     },
     "execution_count": 23,
     "metadata": {},
     "output_type": "execute_result"
    }
   ],
   "source": [
    "import numpy as np\n",
    "\n",
    "def withoutRow(arr, badrow):\n",
    "    return np.array([row for row in arr if not np.array_equal(row, badrow)])\n",
    "    \n",
    "arr = np.array([\n",
    "    [1,2,3],\n",
    "    [4,5,6],\n",
    "    [7,8,9],\n",
    "    [3,2,1]\n",
    "])\n",
    "\n",
    "withoutRow(arr, [1,2,3])"
   ]
  },
  {
   "cell_type": "code",
   "execution_count": 28,
   "metadata": {},
   "outputs": [
    {
     "data": {
      "text/plain": [
       "array([[4, 5, 6],\n",
       "       [7, 8, 9]])"
      ]
     },
     "execution_count": 28,
     "metadata": {},
     "output_type": "execute_result"
    }
   ],
   "source": [
    "import numpy as np\n",
    "\n",
    "def withoutRowUnordered(arr, badrow):\n",
    "    badset = set(badrow)\n",
    "    return np.array([row for row in arr if badset != set(row)])\n",
    "    \n",
    "arr = np.array([\n",
    "    [1,2,3],\n",
    "    [4,5,6],\n",
    "    [7,8,9],\n",
    "    [3,2,1]\n",
    "])\n",
    "\n",
    "withoutRowUnordered(arr, [1,2,3])"
   ]
  },
  {
   "cell_type": "code",
   "execution_count": 42,
   "metadata": {},
   "outputs": [],
   "source": [
    "import numpy as np\n",
    "A = np.random.rand(10,5) \n",
    "A[:,-1] = np.random.randint(4, size=10)\n",
    "sorted_A = A[np.argsort(A[:,4])]\n",
    "splits = np.split(sorted_A, np.where(np.diff(sorted_A[:,4]))[0]+1)\n",
    "idx = np.concatenate([[0], np.where(np.diff(sorted_A[:,4]))[0]+1, [A.shape[0]]])"
   ]
  },
  {
   "cell_type": "code",
   "execution_count": 45,
   "metadata": {},
   "outputs": [
    {
     "data": {
      "text/plain": [
       "array([4, 6, 7])"
      ]
     },
     "execution_count": 45,
     "metadata": {},
     "output_type": "execute_result"
    }
   ],
   "source": [
    "np.where(np.diff(sorted_A[:,4]))[0]+1"
   ]
  },
  {
   "cell_type": "code",
   "execution_count": 46,
   "metadata": {},
   "outputs": [
    {
     "data": {
      "text/plain": [
       "array([4, 2, 1, 3])"
      ]
     },
     "execution_count": 46,
     "metadata": {},
     "output_type": "execute_result"
    }
   ],
   "source": [
    "np.diff(idx)"
   ]
  },
  {
   "cell_type": "code",
   "execution_count": 47,
   "metadata": {},
   "outputs": [
    {
     "data": {
      "text/plain": [
       "array([ 0,  4,  6,  7, 10])"
      ]
     },
     "execution_count": 47,
     "metadata": {},
     "output_type": "execute_result"
    }
   ],
   "source": [
    "idx"
   ]
  }
 ],
 "metadata": {
  "kernelspec": {
   "display_name": "Python 3",
   "language": "python",
   "name": "python3"
  },
  "language_info": {
   "codemirror_mode": {
    "name": "ipython",
    "version": 3
   },
   "file_extension": ".py",
   "mimetype": "text/x-python",
   "name": "python",
   "nbconvert_exporter": "python",
   "pygments_lexer": "ipython3",
   "version": "3.6.5"
  }
 },
 "nbformat": 4,
 "nbformat_minor": 2
}
