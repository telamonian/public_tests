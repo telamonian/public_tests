{
 "cells": [
  {
   "cell_type": "markdown",
   "metadata": {},
   "source": [
    "tangent explored while writing an answer for https://stackoverflow.com/q/49888741/425458"
   ]
  },
  {
   "cell_type": "markdown",
   "metadata": {},
   "source": [
    "# How to use `numpy.einsum` to do matrix or tensor operations (and possibly avoid precision errors)\n",
    "\n",
    "Example given in terms of the operation $\\mathbf{A} \\cdot \\mathbf{B} \\cdot \\mathbf{A^T} = \\mathbf{C}$, where $\\mathbf{A}$ is a matrix, $\\mathbf{A^T}$ is it's transpose, and $\\mathbf{B}$ and $\\mathbf{C}$ are both symmetric matrices. It is assumed that $C_\\mathbf{A} = R_\\mathbf{B}$, where $R_\\mathbf{x}, C_\\mathbf{x}$ are the counts of rows and columns, respectively, of some matrix $\\mathbf{x}$"
   ]
  },
  {
   "cell_type": "code",
   "execution_count": 80,
   "metadata": {},
   "outputs": [],
   "source": [
    "import numpy as np\n",
    "\n",
    "rowA = 3\n",
    "colA = 2\n",
    "\n",
    "shapeA = (rowA, colA)\n",
    "shapeB = (colA, colA)\n",
    "\n",
    "A = np.random.rand(*shapeA)\n",
    "\n",
    "b = np.random.rand(*shapeB)\n",
    "B = b.dot(b.T)\n",
    "# check that B is symmetrical\n",
    "assert np.sum(B - B.T) == 0"
   ]
  },
  {
   "cell_type": "markdown",
   "metadata": {},
   "source": [
    "## multiply 3 matrices with `np.dot`"
   ]
  },
  {
   "cell_type": "code",
   "execution_count": 81,
   "metadata": {},
   "outputs": [
    {
     "data": {
      "text/plain": [
       "array([[0.67529829, 0.38040981, 0.68677911],\n",
       "       [0.38040981, 0.21480394, 0.38711514],\n",
       "       [0.68677911, 0.38711514, 0.6985659 ]])"
      ]
     },
     "execution_count": 81,
     "metadata": {},
     "output_type": "execute_result"
    }
   ],
   "source": [
    "np.dot(np.dot(A, B), A.T)"
   ]
  },
  {
   "cell_type": "markdown",
   "metadata": {},
   "source": [
    "## various ways to multiply 3 matrices with `np.einsum`"
   ]
  },
  {
   "cell_type": "code",
   "execution_count": 83,
   "metadata": {},
   "outputs": [
    {
     "data": {
      "text/plain": [
       "array([[0.67529829, 0.38040981, 0.68677911],\n",
       "       [0.38040981, 0.21480394, 0.38711514],\n",
       "       [0.68677911, 0.38711514, 0.6985659 ]])"
      ]
     },
     "execution_count": 83,
     "metadata": {},
     "output_type": "execute_result"
    }
   ],
   "source": [
    "np.einsum('ij,jk,lk',A,B,A)"
   ]
  },
  {
   "cell_type": "code",
   "execution_count": 84,
   "metadata": {},
   "outputs": [
    {
     "data": {
      "text/plain": [
       "array([[0.67529829, 0.38040981, 0.68677911],\n",
       "       [0.38040981, 0.21480394, 0.38711514],\n",
       "       [0.68677911, 0.38711514, 0.6985659 ]])"
      ]
     },
     "execution_count": 84,
     "metadata": {},
     "output_type": "execute_result"
    }
   ],
   "source": [
    "np.einsum('cd,de,fe',A,B,A)"
   ]
  },
  {
   "cell_type": "code",
   "execution_count": 85,
   "metadata": {},
   "outputs": [
    {
     "data": {
      "text/plain": [
       "array([[0.67529829, 0.38040981, 0.68677911],\n",
       "       [0.38040981, 0.21480394, 0.38711514],\n",
       "       [0.68677911, 0.38711514, 0.6985659 ]])"
      ]
     },
     "execution_count": 85,
     "metadata": {},
     "output_type": "execute_result"
    }
   ],
   "source": [
    "np.einsum('cd,de,ef',A,B,A.T)"
   ]
  },
  {
   "cell_type": "code",
   "execution_count": 86,
   "metadata": {},
   "outputs": [
    {
     "data": {
      "text/plain": [
       "array([[0.67529829, 0.38040981, 0.68677911],\n",
       "       [0.38040981, 0.21480394, 0.38711514],\n",
       "       [0.68677911, 0.38711514, 0.6985659 ]])"
      ]
     },
     "execution_count": 86,
     "metadata": {},
     "output_type": "execute_result"
    }
   ],
   "source": [
    "np.einsum(A,[0,1],B,[1,2],A,[3,2])"
   ]
  },
  {
   "cell_type": "markdown",
   "metadata": {},
   "source": [
    "# Scratch"
   ]
  },
  {
   "cell_type": "code",
   "execution_count": 45,
   "metadata": {},
   "outputs": [],
   "source": [
    "import numpy as np\n",
    "\n",
    "dim = 3\n",
    "bshape = (dim,)*4\n",
    "dshape = (dim,)*2\n",
    "\n",
    "d = np.random.randint(0, 100, dshape)\n",
    "D = d.dot(d.T)"
   ]
  },
  {
   "cell_type": "code",
   "execution_count": 46,
   "metadata": {},
   "outputs": [
    {
     "data": {
      "text/plain": [
       "array([[ 5218,  5234, -3826],\n",
       "       [ 5234,  3924, -3744],\n",
       "       [-3826, -3744, -9142]])"
      ]
     },
     "execution_count": 46,
     "metadata": {},
     "output_type": "execute_result"
    }
   ],
   "source": [
    "d.dot(d.T) - d.T.dot(d)"
   ]
  },
  {
   "cell_type": "code",
   "execution_count": null,
   "metadata": {},
   "outputs": [],
   "source": []
  }
 ],
 "metadata": {
  "kernelspec": {
   "display_name": "Python 3",
   "language": "python",
   "name": "python3"
  },
  "language_info": {
   "codemirror_mode": {
    "name": "ipython",
    "version": 3
   },
   "file_extension": ".py",
   "mimetype": "text/x-python",
   "name": "python",
   "nbconvert_exporter": "python",
   "pygments_lexer": "ipython3",
   "version": "3.6.5"
  }
 },
 "nbformat": 4,
 "nbformat_minor": 2
}
